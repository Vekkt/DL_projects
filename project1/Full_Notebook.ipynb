{
 "cells": [
  {
   "cell_type": "code",
   "execution_count": 20,
   "id": "extraordinary-nowhere",
   "metadata": {},
   "outputs": [],
   "source": [
    "import dlc_practical_prologue as prologue\n",
    "import torch\n",
    "from torch import nn\n",
    "from torch import optim\n",
    "import matplotlib.pyplot as plt\n",
    "from tqdm import tqdm\n",
    "import statistics\n",
    "import numpy as np #Only used for visualisation of digits"
   ]
  },
  {
   "cell_type": "code",
   "execution_count": 87,
   "id": "provincial-antibody",
   "metadata": {},
   "outputs": [],
   "source": [
    "# Main network structure, plus training and compute errors functions\n",
    "\n",
    "class DigitNet(nn.Module):\n",
    "    \n",
    "    def __init__(self):\n",
    "        super(DigitNet, self).__init__()\n",
    "        self.features = nn.Sequential(\n",
    "            nn.Conv2d(1, 4, 5),\n",
    "            nn.BatchNorm2d(4),\n",
    "            #nn.Dropout2d(),\n",
    "            nn.PReLU(),\n",
    "            nn.Conv2d(4, 8, 3),\n",
    "            nn.BatchNorm2d(8),\n",
    "            #nn.Dropout2d(),\n",
    "            nn.PReLU(),\n",
    "            nn.Conv2d(8, 16, 3),\n",
    "            nn.BatchNorm2d(16),\n",
    "            #nn.Dropout2d(),\n",
    "            nn.PReLU()\n",
    "            )\n",
    "        self.fc = nn.Sequential(\n",
    "            nn.Linear(16 * 6 * 6, 256),\n",
    "            nn.BatchNorm1d(256),\n",
    "            #nn.Dropout(),\n",
    "            nn.PReLU(),\n",
    "            nn.Linear(256, 64),\n",
    "            nn.BatchNorm1d(64),\n",
    "            #nn.Dropout(),\n",
    "            nn.PReLU(),\n",
    "            nn.Linear(64, 10),\n",
    "            nn.Softmax(dim=1)\n",
    "            )\n",
    "\n",
    "    def forward(self, x):\n",
    "        features = self.features(x)\n",
    "        features = features.view(-1, 16 * 6 * 6)\n",
    "        digit = self.fc(features)\n",
    "        return digit\n",
    "    \n",
    "\n",
    "class PairSetsModel(nn.Module):\n",
    "\n",
    "    def __init__(self, weight_sharing = True, use_auxiliary_loss = True):\n",
    "        super(PairSetsModel, self).__init__()        \n",
    "        self.weight_sharing = weight_sharing\n",
    "        self.use_auxiliary_loss = use_auxiliary_loss        \n",
    "        self.net1 = DigitNet()\n",
    "        self.net2 = self.net1 if weight_sharing else DigitNet()        \n",
    "        self.fc = nn.Linear(100, 1)\n",
    "\n",
    "    def forward(self, image1, image2):\n",
    "        digit1 = self.net1(image1)\n",
    "        digit2 = self.net2(image2)\n",
    "        digits = torch.bmm(digit1[:,:,None], digit2[:,None,:])\n",
    "        prediction = self.fc(digits.view(-1, 100)).view(-1)       \n",
    "        return prediction, digit1, digit2\n",
    "    \n",
    "\n",
    "def train_model(model, images1, images1_target, images2, images2_target,target, mini_batch_size, nb_epochs = 25):\n",
    "    criterion = torch.nn.MSELoss()\n",
    "    criterion_aux = torch.nn.MSELoss()\n",
    "    model.train()\n",
    "    optimizer = optim.Adam(model.parameters(), lr = 0.01)\n",
    "    \n",
    "    for epoch in tqdm(range(nb_epochs)):    \n",
    "        # Train\n",
    "        epoch_loss = 0\n",
    "        epoch_accuracy = 0\n",
    "        for b in range(0, images1.size(0), mini_batch_size):\n",
    "            images1_here = images1.narrow(0,b,mini_batch_size)\n",
    "            images2_here = images2.narrow(0,b,mini_batch_size)\n",
    "            prediction, digit1, digit2 = model(images1_here, images2_here)\n",
    "            loss = criterion(prediction, target.narrow(0, b, mini_batch_size))\n",
    "            epoch_loss += loss\n",
    "            model.zero_grad()\n",
    "            if model.use_auxiliary_loss: \n",
    "                    aux_loss = criterion_aux(digit1, images1_target.narrow(0,b,mini_batch_size)) \n",
    "                    aux_loss += criterion_aux(digit2, images2_target.narrow(0,b,mini_batch_size))\n",
    "                    loss += aux_loss\n",
    "            loss.backward()\n",
    "            optimizer.step()\n",
    "        print('epochs = ', epoch, ', loss = ', epoch_loss)\n",
    "\n",
    "def compute_nb_errors(model, images1, images2, target, mini_batch_size):\n",
    "    nb_errors = 0\n",
    "\n",
    "    for b in range(0, images1.size(0), mini_batch_size):\n",
    "        images1_here = images1.narrow(0,b,mini_batch_size)\n",
    "        images2_here = images2.narrow(0,b,mini_batch_size)\n",
    "        prediction, digit1, digit2 = model(images1_here, images2_here)\n",
    "        predicted_target = torch.empty(prediction.size())\n",
    "        for k in range(mini_batch_size):\n",
    "            predicted_target[k] = 0.0 if prediction[k]< 0.5 else 1.0\n",
    "            if target[b + k] != predicted_target[k]:\n",
    "                nb_errors = nb_errors + 1\n",
    "    return nb_errors\n"
   ]
  },
  {
   "cell_type": "code",
   "execution_count": 88,
   "id": "secondary-algorithm",
   "metadata": {},
   "outputs": [],
   "source": [
    "# Data acquisition\n",
    "N = 1000\n",
    "get1 = prologue.generate_pair_sets(N)\n",
    "# get1 will be a tuple of size 6: \n",
    "#      position 0 has a Nx2x14x14 torch containing train images\n",
    "#      position 1 has a N torch containing train target [0 or 1]\n",
    "#      position 2 has a Nx2 torch containing train classes [0,...,9]x[0,...,9]\n",
    "#      position 3 has a Nx2x14x14 torch containing test images\n",
    "#      position 4 has a N torch containing test target [0 or 1]\n",
    "#      position 5 has a Nx2 torch containing test classes [0,...,9]x[0,...,9]\n",
    "\n",
    "# Extract data from get1\n",
    "train_images1 = get1[0][:,0,:, :].to(torch.float32)\n",
    "train_images2 = get1[0][:,1,:, :].to(torch.float32)\n",
    "train_classes_images1 = get1[2][:,0].to(torch.float32)\n",
    "train_classes_images2 = get1[2][:,1].to(torch.float32)\n",
    "train_target = get1[1].to(torch.float32)\n",
    "\n",
    "test_images1 = get1[3][:,0,:, :].to(torch.float32)\n",
    "test_images2 = get1[3][:,1,:, :].to(torch.float32)\n",
    "test_classes_images1 = get1[5][:,0].to(torch.float32)\n",
    "test_classes_images2 = get1[5][:,1].to(torch.float32)\n",
    "test_target = get1[4].to(torch.float32)\n",
    "\n",
    "train_classes_long_images1 = torch.zeros((train_classes_images1.size()[0], 10))\n",
    "train_classes_long_images2 = torch.zeros((train_classes_images2.size()[0], 10))\n",
    "\n",
    "test_classes_long_images1 = torch.zeros((test_classes_images1.size()[0], 10))\n",
    "test_classes_long_images2 = torch.zeros((test_classes_images2.size()[0], 10))\n",
    "\n",
    "\n",
    "for k in range(N):\n",
    "    train_classes_long_images1[k, train_classes_images1[k].to(torch.int) ] = 1.0\n",
    "    train_classes_long_images2[k, train_classes_images2[k].to(torch.int) ] = 1.0\n",
    "    \n",
    "    test_classes_long_images1[k, test_classes_images1[k].to(torch.int) ] = 1.0\n",
    "    test_classes_long_images2[k, test_classes_images2[k].to(torch.int) ] = 1.0\n",
    "\n",
    "# My version of pytorch makes me do this for the network to read inputs correctly    \n",
    "train_images1 = train_images1.view(1000, -1, 14, 14)\n",
    "train_images2 = train_images2.view(1000, -1, 14, 14)\n",
    "\n",
    "test_images1 = test_images1.view(1000, -1, 14, 14)\n",
    "test_images2 = test_images2.view(1000, -1, 14, 14)"
   ]
  },
  {
   "cell_type": "code",
   "execution_count": 89,
   "id": "persistent-strategy",
   "metadata": {
    "scrolled": true
   },
   "outputs": [
    {
     "name": "stderr",
     "output_type": "stream",
     "text": [
      "  4%|▍         | 1/25 [00:00<00:10,  2.28it/s]"
     ]
    },
    {
     "name": "stdout",
     "output_type": "stream",
     "text": [
      "epochs =  0 , loss =  tensor(6.5938, grad_fn=<AddBackward0>)\n"
     ]
    },
    {
     "name": "stderr",
     "output_type": "stream",
     "text": [
      "\r",
      "  8%|▊         | 2/25 [00:00<00:10,  2.25it/s]"
     ]
    },
    {
     "name": "stdout",
     "output_type": "stream",
     "text": [
      "epochs =  1 , loss =  tensor(3.7033, grad_fn=<AddBackward0>)\n"
     ]
    },
    {
     "name": "stderr",
     "output_type": "stream",
     "text": [
      "\r",
      " 12%|█▏        | 3/25 [00:01<00:09,  2.22it/s]"
     ]
    },
    {
     "name": "stdout",
     "output_type": "stream",
     "text": [
      "epochs =  2 , loss =  tensor(2.2273, grad_fn=<AddBackward0>)\n"
     ]
    },
    {
     "name": "stderr",
     "output_type": "stream",
     "text": [
      "\r",
      " 16%|█▌        | 4/25 [00:01<00:09,  2.28it/s]"
     ]
    },
    {
     "name": "stdout",
     "output_type": "stream",
     "text": [
      "epochs =  3 , loss =  tensor(1.2765, grad_fn=<AddBackward0>)\n"
     ]
    },
    {
     "name": "stderr",
     "output_type": "stream",
     "text": [
      "\r",
      " 20%|██        | 5/25 [00:02<00:08,  2.24it/s]"
     ]
    },
    {
     "name": "stdout",
     "output_type": "stream",
     "text": [
      "epochs =  4 , loss =  tensor(0.8430, grad_fn=<AddBackward0>)\n"
     ]
    },
    {
     "name": "stderr",
     "output_type": "stream",
     "text": [
      "\r",
      " 24%|██▍       | 6/25 [00:02<00:08,  2.23it/s]"
     ]
    },
    {
     "name": "stdout",
     "output_type": "stream",
     "text": [
      "epochs =  5 , loss =  tensor(0.6086, grad_fn=<AddBackward0>)\n"
     ]
    },
    {
     "name": "stderr",
     "output_type": "stream",
     "text": [
      "\r",
      " 28%|██▊       | 7/25 [00:03<00:08,  2.24it/s]"
     ]
    },
    {
     "name": "stdout",
     "output_type": "stream",
     "text": [
      "epochs =  6 , loss =  tensor(0.3842, grad_fn=<AddBackward0>)\n"
     ]
    },
    {
     "name": "stderr",
     "output_type": "stream",
     "text": [
      "\r",
      " 32%|███▏      | 8/25 [00:03<00:07,  2.26it/s]"
     ]
    },
    {
     "name": "stdout",
     "output_type": "stream",
     "text": [
      "epochs =  7 , loss =  tensor(0.4161, grad_fn=<AddBackward0>)\n"
     ]
    },
    {
     "name": "stderr",
     "output_type": "stream",
     "text": [
      "\r",
      " 36%|███▌      | 9/25 [00:03<00:07,  2.27it/s]"
     ]
    },
    {
     "name": "stdout",
     "output_type": "stream",
     "text": [
      "epochs =  8 , loss =  tensor(0.2101, grad_fn=<AddBackward0>)\n"
     ]
    },
    {
     "name": "stderr",
     "output_type": "stream",
     "text": [
      "\r",
      " 40%|████      | 10/25 [00:04<00:06,  2.28it/s]"
     ]
    },
    {
     "name": "stdout",
     "output_type": "stream",
     "text": [
      "epochs =  9 , loss =  tensor(0.2109, grad_fn=<AddBackward0>)\n"
     ]
    },
    {
     "name": "stderr",
     "output_type": "stream",
     "text": [
      "\r",
      " 44%|████▍     | 11/25 [00:04<00:06,  2.29it/s]"
     ]
    },
    {
     "name": "stdout",
     "output_type": "stream",
     "text": [
      "epochs =  10 , loss =  tensor(0.1377, grad_fn=<AddBackward0>)\n"
     ]
    },
    {
     "name": "stderr",
     "output_type": "stream",
     "text": [
      "\r",
      " 48%|████▊     | 12/25 [00:05<00:05,  2.26it/s]"
     ]
    },
    {
     "name": "stdout",
     "output_type": "stream",
     "text": [
      "epochs =  11 , loss =  tensor(0.1117, grad_fn=<AddBackward0>)\n"
     ]
    },
    {
     "name": "stderr",
     "output_type": "stream",
     "text": [
      "\r",
      " 52%|█████▏    | 13/25 [00:05<00:05,  2.01it/s]"
     ]
    },
    {
     "name": "stdout",
     "output_type": "stream",
     "text": [
      "epochs =  12 , loss =  tensor(0.0956, grad_fn=<AddBackward0>)\n"
     ]
    },
    {
     "name": "stderr",
     "output_type": "stream",
     "text": [
      "\r",
      " 56%|█████▌    | 14/25 [00:06<00:05,  2.08it/s]"
     ]
    },
    {
     "name": "stdout",
     "output_type": "stream",
     "text": [
      "epochs =  13 , loss =  tensor(0.0151, grad_fn=<AddBackward0>)\n"
     ]
    },
    {
     "name": "stderr",
     "output_type": "stream",
     "text": [
      "\r",
      " 60%|██████    | 15/25 [00:06<00:04,  2.14it/s]"
     ]
    },
    {
     "name": "stdout",
     "output_type": "stream",
     "text": [
      "epochs =  14 , loss =  tensor(0.0051, grad_fn=<AddBackward0>)\n"
     ]
    },
    {
     "name": "stderr",
     "output_type": "stream",
     "text": [
      "\r",
      " 64%|██████▍   | 16/25 [00:07<00:04,  2.16it/s]"
     ]
    },
    {
     "name": "stdout",
     "output_type": "stream",
     "text": [
      "epochs =  15 , loss =  tensor(0.0023, grad_fn=<AddBackward0>)\n"
     ]
    },
    {
     "name": "stderr",
     "output_type": "stream",
     "text": [
      "\r",
      " 68%|██████▊   | 17/25 [00:07<00:04,  1.95it/s]"
     ]
    },
    {
     "name": "stdout",
     "output_type": "stream",
     "text": [
      "epochs =  16 , loss =  tensor(0.0008, grad_fn=<AddBackward0>)\n"
     ]
    },
    {
     "name": "stderr",
     "output_type": "stream",
     "text": [
      "\r",
      " 72%|███████▏  | 18/25 [00:08<00:03,  1.86it/s]"
     ]
    },
    {
     "name": "stdout",
     "output_type": "stream",
     "text": [
      "epochs =  17 , loss =  tensor(0.0005, grad_fn=<AddBackward0>)\n"
     ]
    },
    {
     "name": "stderr",
     "output_type": "stream",
     "text": [
      "\r",
      " 76%|███████▌  | 19/25 [00:09<00:03,  1.88it/s]"
     ]
    },
    {
     "name": "stdout",
     "output_type": "stream",
     "text": [
      "epochs =  18 , loss =  tensor(0.0003, grad_fn=<AddBackward0>)\n"
     ]
    },
    {
     "name": "stderr",
     "output_type": "stream",
     "text": [
      "\r",
      " 80%|████████  | 20/25 [00:09<00:02,  1.94it/s]"
     ]
    },
    {
     "name": "stdout",
     "output_type": "stream",
     "text": [
      "epochs =  19 , loss =  tensor(0.0002, grad_fn=<AddBackward0>)\n"
     ]
    },
    {
     "name": "stderr",
     "output_type": "stream",
     "text": [
      "\r",
      " 84%|████████▍ | 21/25 [00:09<00:01,  2.04it/s]"
     ]
    },
    {
     "name": "stdout",
     "output_type": "stream",
     "text": [
      "epochs =  20 , loss =  tensor(0.0002, grad_fn=<AddBackward0>)\n"
     ]
    },
    {
     "name": "stderr",
     "output_type": "stream",
     "text": [
      "\r",
      " 88%|████████▊ | 22/25 [00:10<00:01,  2.11it/s]"
     ]
    },
    {
     "name": "stdout",
     "output_type": "stream",
     "text": [
      "epochs =  21 , loss =  tensor(0.0001, grad_fn=<AddBackward0>)\n"
     ]
    },
    {
     "name": "stderr",
     "output_type": "stream",
     "text": [
      "\r",
      " 92%|█████████▏| 23/25 [00:10<00:00,  2.13it/s]"
     ]
    },
    {
     "name": "stdout",
     "output_type": "stream",
     "text": [
      "epochs =  22 , loss =  tensor(8.1940e-05, grad_fn=<AddBackward0>)\n"
     ]
    },
    {
     "name": "stderr",
     "output_type": "stream",
     "text": [
      "\r",
      " 96%|█████████▌| 24/25 [00:11<00:00,  1.98it/s]"
     ]
    },
    {
     "name": "stdout",
     "output_type": "stream",
     "text": [
      "epochs =  23 , loss =  tensor(6.5952e-05, grad_fn=<AddBackward0>)\n"
     ]
    },
    {
     "name": "stderr",
     "output_type": "stream",
     "text": [
      "100%|██████████| 25/25 [00:11<00:00,  2.11it/s]"
     ]
    },
    {
     "name": "stdout",
     "output_type": "stream",
     "text": [
      "epochs =  24 , loss =  tensor(6.0015e-05, grad_fn=<AddBackward0>)\n"
     ]
    },
    {
     "name": "stderr",
     "output_type": "stream",
     "text": [
      "\n"
     ]
    },
    {
     "name": "stdout",
     "output_type": "stream",
     "text": [
      "Train error Net 0.00% 0/1000\n",
      "Test error Net 3.30% 33/1000\n"
     ]
    }
   ],
   "source": [
    "# MAIN\n",
    "model = PairSetsModel(weight_sharing=True, use_auxiliary_loss=True)\n",
    "mini_batch_size = 50\n",
    "nb_epochs = 25\n",
    "train_model(model, train_images1, train_classes_long_images1, train_images2, train_classes_long_images2,\n",
    "            train_target, mini_batch_size, nb_epochs)\n",
    "\n",
    "## Train&Test Errors:\n",
    "nb_train_errors = compute_nb_errors(model, train_images1, train_images2, train_target, mini_batch_size)\n",
    "print('Train error Net {:0.2f}% {:d}/{:d}'.format((100 * nb_train_errors) / train_images1.size(0),\n",
    "                                                nb_train_errors, train_images1.size(0)))\n",
    "\n",
    "nb_test_errors = compute_nb_errors(model, test_images1, test_images2, test_target, mini_batch_size)\n",
    "print('Test error Net {:0.2f}% {:d}/{:d}'.format((100 * nb_test_errors) / train_images2.size(0),\n",
    "                                                nb_test_errors, test_images1.size(0)))\n"
   ]
  },
  {
   "cell_type": "code",
   "execution_count": 104,
   "id": "personal-study",
   "metadata": {},
   "outputs": [
    {
     "name": "stdout",
     "output_type": "stream",
     "text": [
      "Target =  1.0 Predicted =  1.0\n"
     ]
    },
    {
     "data": {
      "image/png": "[encoded data removed]",
      "text/plain": [
       "<Figure size 432x288 with 2 Axes>"
      ]
     },
     "metadata": {
      "needs_background": "light"
     },
     "output_type": "display_data"
    }
   ],
   "source": [
    "#### Run this to plot some examples\n",
    "j = 1 # Change this from 0 to 999 to visualize a few examples\n",
    "\n",
    "\n",
    "fig = plt.figure()\n",
    "prediction, digit1, digit2 = model(train_images1, train_images2)\n",
    "for k in range(prediction.size()[0]):\n",
    "    prediction[k] = 0.0 if prediction[k]<0.5 else 1.0\n",
    "first_digit = train_images1[j]\n",
    "_, first_digit_predicted = digit1.max(-1)\n",
    "second_digit = train_images2[j]\n",
    "_, second_digit_predicted = digit2.max(-1)\n",
    "target = train_target[j]\n",
    "label_image1 = str(int(train_classes_images1[j].item()))\n",
    "label_image2 = str(int(train_classes_images2[j].item()))\n",
    "\n",
    "print('Target = ', target.item(), 'Predicted = ', prediction[j].item())\n",
    "first_digit = np.array(first_digit, dtype='float')\n",
    "second_digit = np.array(second_digit, dtype='float')\n",
    "pixels = first_digit.reshape((14, 14))\n",
    "ax1 = fig.add_subplot(2,2,1)\n",
    "ax1.imshow(pixels, cmap='gray')\n",
    "plt.title('First: (Pred, Real ) = ('+ str(first_digit_predicted[j].item()) + ','+ label_image1+')')\n",
    "pixels2 = second_digit.reshape((14, 14))\n",
    "ax2 = fig.add_subplot(2,2,2)\n",
    "ax2.imshow(pixels2, cmap='gray')\n",
    "plt.title('Second: (Pred, Real ) = ('+ str(second_digit_predicted[j].item()) + ','+ label_image2+')')\n",
    "plt.show()\n"
   ]
  },
  {
   "cell_type": "code",
   "execution_count": null,
   "id": "supreme-pixel",
   "metadata": {},
   "outputs": [],
   "source": []
  }
 ],
 "metadata": {
  "kernelspec": {
   "display_name": "Python 3",
   "language": "python",
   "name": "python3"
  },
  "language_info": {
   "codemirror_mode": {
    "name": "ipython",
    "version": 3
   },
   "file_extension": ".py",
   "mimetype": "text/x-python",
   "name": "python",
   "nbconvert_exporter": "python",
   "pygments_lexer": "ipython3",
   "version": "3.8.5"
  }
 },
 "nbformat": 4,
 "nbformat_minor": 5
}
