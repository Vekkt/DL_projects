{
 "cells": [
  {
   "cell_type": "code",
   "execution_count": 1,
   "id": "familiar-january",
   "metadata": {},
   "outputs": [],
   "source": [
    "from loss import MSELoss, CrossEntropyLoss\n",
    "from sgd import SGD\n",
    "from linear import Linear\n",
    "from sequential import Sequential\n",
    "from activation import ReLU, Tanh\n",
    "from math import pi\n",
    "from torch import empty, set_grad_enabled\n",
    "import matplotlib.pyplot as plt\n",
    "from tqdm import tqdm\n",
    "import numpy as np\n"
   ]
  },
  {
   "cell_type": "code",
   "execution_count": 2,
   "id": "adverse-remains",
   "metadata": {},
   "outputs": [],
   "source": [
    "import torch\n",
    "import math\n",
    "\n",
    "from torch import optim\n",
    "from torch import Tensor\n",
    "from torch import nn"
   ]
  },
  {
   "cell_type": "code",
   "execution_count": 3,
   "id": "known-costs",
   "metadata": {},
   "outputs": [],
   "source": [
    "\n",
    "def generate_disc_set(nb, one_hot=False):\n",
    "    #input = empty(nb, 2).uniform_(-1, 1)\n",
    "    #target = input.pow(2).sum(1).sub(2 / pi).sign().add(1).div(2).long()\n",
    "    input = empty(nb, 2).uniform_(0, 1)\n",
    "    target = input.add(-0.5).pow(2).sum(1).sub(1 /(2*pi)).sign().add(1).div(2).long()\n",
    "    if not one_hot:\n",
    "        target = target.new_zeros(\n",
    "            target.size(0), \n",
    "            input.size(1)).scatter(1, target.view(-1, 1), 1)\n",
    "    return input, target\n",
    "\n",
    "###############################################################################\n",
    "\n",
    "def compute_nb_errors(model, data_input, data_target, mini_batch_size=100, one_hot=False):\n",
    "    nb_data_errors = 0\n",
    "\n",
    "    for b in range(0, data_input.size(0), mini_batch_size):\n",
    "        output = model(data_input.narrow(0, b, mini_batch_size))\n",
    "        _, predicted_classes = output.max(axis=1)\n",
    "        for k in range(mini_batch_size):\n",
    "            target = data_target[b + k]\n",
    "            if not one_hot:\n",
    "                target = target.argmax()\n",
    "            if target != predicted_classes[k]:\n",
    "                nb_data_errors = nb_data_errors + 1\n",
    "    return nb_data_errors\n",
    "\n",
    "\n",
    "def train_model(model, train_input, train_target, it, mini_batch_size=100, one_hot=False):\n",
    "    creterion = MSELoss(model) if not one_hot else CrossEntropyLoss(model)\n",
    "    optimizer = SGD(model.parameters(), lr=5e-2, momentum=0.5)\n",
    "    nb_epochs = 100\n",
    "    l = []\n",
    "\n",
    "    for _ in tqdm(range(nb_epochs)):\n",
    "        batch_loss = 0\n",
    "        for b in range(0, train_input.size(0), mini_batch_size):\n",
    "            output = model(train_input.narrow(0, b, mini_batch_size))\n",
    "            loss = creterion(output, train_target.narrow(0, b, mini_batch_size))\n",
    "            \n",
    "            model.zero_grad()\n",
    "            loss.backward()\n",
    "            optimizer.step()\n",
    "\n",
    "            batch_loss = loss + batch_loss\n",
    "        l.append(batch_loss)\n",
    "    matrix_loss_our[:,it] = l\n",
    "    #plt.plot(range(nb_epochs), l, label = 'Our Class')\n",
    "\n",
    "    \n",
    "    \n",
    "def train_model2(model, train_input, train_target, it):\n",
    "    train_input = train_input.to(torch.float32)\n",
    "    train_target = train_target.to(torch.float32)\n",
    "    criterion = nn.MSELoss()\n",
    "    optimizer = optim.SGD(model.parameters(), lr = 1e-1)\n",
    "    nb_epochs = 100\n",
    "\n",
    "    l = []\n",
    "    for _ in tqdm(range(nb_epochs)):\n",
    "        batch_loss = 0\n",
    "        for b in range(0, train_input.size(0), mini_batch_size):\n",
    "            output = model(train_input.narrow(0, b, mini_batch_size))\n",
    "            loss = criterion(output, train_target.narrow(0, b, mini_batch_size))\n",
    "            model.zero_grad()\n",
    "            loss.backward()\n",
    "            optimizer.step()\n",
    "            batch_loss = loss + batch_loss\n",
    "        l.append(batch_loss)\n",
    "    matrix_loss_pytorch[:,it] = l\n",
    "\n",
    "        #plt.plot(range(nb_epochs), l, label = 'Pytorch')\n",
    "    \n",
    "    \n",
    "    \n"
   ]
  },
  {
   "cell_type": "code",
   "execution_count": 4,
   "id": "coupled-marathon",
   "metadata": {},
   "outputs": [
    {
     "name": "stderr",
     "output_type": "stream",
     "text": [
      "100%|██████████| 100/100 [00:00<00:00, 178.08it/s]\n",
      "  0%|          | 0/100 [00:00<?, ?it/s]"
     ]
    },
    {
     "name": "stdout",
     "output_type": "stream",
     "text": [
      "Our: train_error 3.30% test_error 4.10%\n"
     ]
    },
    {
     "name": "stderr",
     "output_type": "stream",
     "text": [
      "/home/marti/.local/lib/python3.8/site-packages/torch/autograd/__init__.py:130: UserWarning: CUDA initialization: Found no NVIDIA driver on your system. Please check that you have an NVIDIA GPU and installed a driver from http://www.nvidia.com/Download/index.aspx (Triggered internally at  /pytorch/c10/cuda/CUDAFunctions.cpp:100.)\n",
      "  Variable._execution_engine.run_backward(\n",
      "100%|██████████| 100/100 [00:00<00:00, 107.74it/s]\n",
      " 23%|██▎       | 23/100 [00:00<00:00, 224.38it/s]"
     ]
    },
    {
     "name": "stdout",
     "output_type": "stream",
     "text": [
      "Pytorch: train_error 1.90% test_error 3.70%\n"
     ]
    },
    {
     "name": "stderr",
     "output_type": "stream",
     "text": [
      "100%|██████████| 100/100 [00:00<00:00, 167.00it/s]\n",
      " 14%|█▍        | 14/100 [00:00<00:00, 135.11it/s]"
     ]
    },
    {
     "name": "stdout",
     "output_type": "stream",
     "text": [
      "Our: train_error 4.30% test_error 5.40%\n"
     ]
    },
    {
     "name": "stderr",
     "output_type": "stream",
     "text": [
      "100%|██████████| 100/100 [00:00<00:00, 111.17it/s]\n",
      " 24%|██▍       | 24/100 [00:00<00:00, 233.83it/s]"
     ]
    },
    {
     "name": "stdout",
     "output_type": "stream",
     "text": [
      "Pytorch: train_error 3.10% test_error 3.80%\n"
     ]
    },
    {
     "name": "stderr",
     "output_type": "stream",
     "text": [
      "100%|██████████| 100/100 [00:00<00:00, 226.60it/s]\n",
      " 18%|█▊        | 18/100 [00:00<00:00, 173.45it/s]"
     ]
    },
    {
     "name": "stdout",
     "output_type": "stream",
     "text": [
      "Our: train_error 5.00% test_error 5.10%\n"
     ]
    },
    {
     "name": "stderr",
     "output_type": "stream",
     "text": [
      "100%|██████████| 100/100 [00:00<00:00, 106.79it/s]\n",
      " 19%|█▉        | 19/100 [00:00<00:00, 185.94it/s]"
     ]
    },
    {
     "name": "stdout",
     "output_type": "stream",
     "text": [
      "Pytorch: train_error 3.10% test_error 4.00%\n"
     ]
    },
    {
     "name": "stderr",
     "output_type": "stream",
     "text": [
      "100%|██████████| 100/100 [00:00<00:00, 185.57it/s]\n",
      " 14%|█▍        | 14/100 [00:00<00:00, 137.31it/s]"
     ]
    },
    {
     "name": "stdout",
     "output_type": "stream",
     "text": [
      "Our: train_error 2.70% test_error 3.60%\n"
     ]
    },
    {
     "name": "stderr",
     "output_type": "stream",
     "text": [
      "100%|██████████| 100/100 [00:00<00:00, 151.48it/s]\n",
      " 19%|█▉        | 19/100 [00:00<00:00, 186.10it/s]"
     ]
    },
    {
     "name": "stdout",
     "output_type": "stream",
     "text": [
      "Pytorch: train_error 2.60% test_error 3.20%\n"
     ]
    },
    {
     "name": "stderr",
     "output_type": "stream",
     "text": [
      "100%|██████████| 100/100 [00:00<00:00, 225.69it/s]\n",
      " 19%|█▉        | 19/100 [00:00<00:00, 181.76it/s]"
     ]
    },
    {
     "name": "stdout",
     "output_type": "stream",
     "text": [
      "Our: train_error 4.50% test_error 4.10%\n"
     ]
    },
    {
     "name": "stderr",
     "output_type": "stream",
     "text": [
      "100%|██████████| 100/100 [00:00<00:00, 183.87it/s]\n",
      " 25%|██▌       | 25/100 [00:00<00:00, 246.82it/s]"
     ]
    },
    {
     "name": "stdout",
     "output_type": "stream",
     "text": [
      "Pytorch: train_error 3.80% test_error 3.70%\n"
     ]
    },
    {
     "name": "stderr",
     "output_type": "stream",
     "text": [
      "100%|██████████| 100/100 [00:00<00:00, 246.24it/s]\n",
      " 19%|█▉        | 19/100 [00:00<00:00, 182.91it/s]"
     ]
    },
    {
     "name": "stdout",
     "output_type": "stream",
     "text": [
      "Our: train_error 3.50% test_error 4.50%\n"
     ]
    },
    {
     "name": "stderr",
     "output_type": "stream",
     "text": [
      "100%|██████████| 100/100 [00:00<00:00, 180.26it/s]\n",
      " 17%|█▋        | 17/100 [00:00<00:00, 167.85it/s]"
     ]
    },
    {
     "name": "stdout",
     "output_type": "stream",
     "text": [
      "Pytorch: train_error 2.80% test_error 4.40%\n"
     ]
    },
    {
     "name": "stderr",
     "output_type": "stream",
     "text": [
      "100%|██████████| 100/100 [00:00<00:00, 201.11it/s]\n",
      " 19%|█▉        | 19/100 [00:00<00:00, 189.91it/s]"
     ]
    },
    {
     "name": "stdout",
     "output_type": "stream",
     "text": [
      "Our: train_error 4.10% test_error 4.20%\n"
     ]
    },
    {
     "name": "stderr",
     "output_type": "stream",
     "text": [
      "100%|██████████| 100/100 [00:00<00:00, 182.01it/s]\n",
      " 25%|██▌       | 25/100 [00:00<00:00, 248.07it/s]"
     ]
    },
    {
     "name": "stdout",
     "output_type": "stream",
     "text": [
      "Pytorch: train_error 2.60% test_error 3.40%\n"
     ]
    },
    {
     "name": "stderr",
     "output_type": "stream",
     "text": [
      "100%|██████████| 100/100 [00:00<00:00, 245.56it/s]\n",
      " 19%|█▉        | 19/100 [00:00<00:00, 189.08it/s]"
     ]
    },
    {
     "name": "stdout",
     "output_type": "stream",
     "text": [
      "Our: train_error 4.00% test_error 4.90%\n"
     ]
    },
    {
     "name": "stderr",
     "output_type": "stream",
     "text": [
      "100%|██████████| 100/100 [00:00<00:00, 184.96it/s]\n",
      " 24%|██▍       | 24/100 [00:00<00:00, 239.12it/s]"
     ]
    },
    {
     "name": "stdout",
     "output_type": "stream",
     "text": [
      "Pytorch: train_error 2.70% test_error 3.50%\n"
     ]
    },
    {
     "name": "stderr",
     "output_type": "stream",
     "text": [
      "100%|██████████| 100/100 [00:00<00:00, 234.18it/s]\n",
      " 19%|█▉        | 19/100 [00:00<00:00, 187.54it/s]"
     ]
    },
    {
     "name": "stdout",
     "output_type": "stream",
     "text": [
      "Our: train_error 4.10% test_error 3.70%\n"
     ]
    },
    {
     "name": "stderr",
     "output_type": "stream",
     "text": [
      "100%|██████████| 100/100 [00:00<00:00, 185.82it/s]\n",
      " 25%|██▌       | 25/100 [00:00<00:00, 248.59it/s]"
     ]
    },
    {
     "name": "stdout",
     "output_type": "stream",
     "text": [
      "Pytorch: train_error 3.40% test_error 3.30%\n"
     ]
    },
    {
     "name": "stderr",
     "output_type": "stream",
     "text": [
      "100%|██████████| 100/100 [00:00<00:00, 243.32it/s]\n",
      " 19%|█▉        | 19/100 [00:00<00:00, 182.31it/s]"
     ]
    },
    {
     "name": "stdout",
     "output_type": "stream",
     "text": [
      "Our: train_error 4.10% test_error 5.50%\n"
     ]
    },
    {
     "name": "stderr",
     "output_type": "stream",
     "text": [
      "100%|██████████| 100/100 [00:00<00:00, 186.41it/s]\n",
      " 25%|██▌       | 25/100 [00:00<00:00, 247.02it/s]"
     ]
    },
    {
     "name": "stdout",
     "output_type": "stream",
     "text": [
      "Pytorch: train_error 2.10% test_error 2.50%\n"
     ]
    },
    {
     "name": "stderr",
     "output_type": "stream",
     "text": [
      "100%|██████████| 100/100 [00:00<00:00, 245.48it/s]\n",
      " 19%|█▉        | 19/100 [00:00<00:00, 188.79it/s]"
     ]
    },
    {
     "name": "stdout",
     "output_type": "stream",
     "text": [
      "Our: train_error 4.30% test_error 5.20%\n"
     ]
    },
    {
     "name": "stderr",
     "output_type": "stream",
     "text": [
      "100%|██████████| 100/100 [00:00<00:00, 184.37it/s]\n",
      " 25%|██▌       | 25/100 [00:00<00:00, 248.23it/s]"
     ]
    },
    {
     "name": "stdout",
     "output_type": "stream",
     "text": [
      "Pytorch: train_error 1.90% test_error 2.20%\n"
     ]
    },
    {
     "name": "stderr",
     "output_type": "stream",
     "text": [
      "100%|██████████| 100/100 [00:00<00:00, 244.14it/s]\n",
      " 20%|██        | 20/100 [00:00<00:00, 191.54it/s]"
     ]
    },
    {
     "name": "stdout",
     "output_type": "stream",
     "text": [
      "Our: train_error 4.60% test_error 4.60%\n"
     ]
    },
    {
     "name": "stderr",
     "output_type": "stream",
     "text": [
      "100%|██████████| 100/100 [00:00<00:00, 184.83it/s]\n",
      " 25%|██▌       | 25/100 [00:00<00:00, 247.56it/s]"
     ]
    },
    {
     "name": "stdout",
     "output_type": "stream",
     "text": [
      "Pytorch: train_error 3.30% test_error 3.80%\n"
     ]
    },
    {
     "name": "stderr",
     "output_type": "stream",
     "text": [
      "100%|██████████| 100/100 [00:00<00:00, 241.20it/s]\n",
      " 19%|█▉        | 19/100 [00:00<00:00, 182.69it/s]"
     ]
    },
    {
     "name": "stdout",
     "output_type": "stream",
     "text": [
      "Our: train_error 3.20% test_error 2.80%\n"
     ]
    },
    {
     "name": "stderr",
     "output_type": "stream",
     "text": [
      "100%|██████████| 100/100 [00:00<00:00, 185.91it/s]\n",
      " 25%|██▌       | 25/100 [00:00<00:00, 247.05it/s]"
     ]
    },
    {
     "name": "stdout",
     "output_type": "stream",
     "text": [
      "Pytorch: train_error 1.80% test_error 3.00%\n"
     ]
    },
    {
     "name": "stderr",
     "output_type": "stream",
     "text": [
      "100%|██████████| 100/100 [00:00<00:00, 246.85it/s]\n",
      " 20%|██        | 20/100 [00:00<00:00, 191.29it/s]"
     ]
    },
    {
     "name": "stdout",
     "output_type": "stream",
     "text": [
      "Our: train_error 4.00% test_error 4.20%\n"
     ]
    },
    {
     "name": "stderr",
     "output_type": "stream",
     "text": [
      "100%|██████████| 100/100 [00:00<00:00, 187.67it/s]\n",
      " 25%|██▌       | 25/100 [00:00<00:00, 248.24it/s]"
     ]
    },
    {
     "name": "stdout",
     "output_type": "stream",
     "text": [
      "Pytorch: train_error 2.00% test_error 2.40%\n"
     ]
    },
    {
     "name": "stderr",
     "output_type": "stream",
     "text": [
      "100%|██████████| 100/100 [00:00<00:00, 244.23it/s]\n",
      " 19%|█▉        | 19/100 [00:00<00:00, 188.69it/s]"
     ]
    },
    {
     "name": "stdout",
     "output_type": "stream",
     "text": [
      "Our: train_error 4.10% test_error 4.50%\n"
     ]
    },
    {
     "name": "stderr",
     "output_type": "stream",
     "text": [
      "100%|██████████| 100/100 [00:00<00:00, 184.88it/s]\n",
      " 25%|██▌       | 25/100 [00:00<00:00, 249.33it/s]"
     ]
    },
    {
     "name": "stdout",
     "output_type": "stream",
     "text": [
      "Pytorch: train_error 3.40% test_error 4.90%\n"
     ]
    },
    {
     "name": "stderr",
     "output_type": "stream",
     "text": [
      "100%|██████████| 100/100 [00:00<00:00, 245.12it/s]\n",
      " 20%|██        | 20/100 [00:00<00:00, 190.41it/s]"
     ]
    },
    {
     "name": "stdout",
     "output_type": "stream",
     "text": [
      "Our: train_error 2.60% test_error 3.60%\n"
     ]
    },
    {
     "name": "stderr",
     "output_type": "stream",
     "text": [
      "100%|██████████| 100/100 [00:00<00:00, 184.98it/s]\n",
      " 25%|██▌       | 25/100 [00:00<00:00, 247.85it/s]"
     ]
    },
    {
     "name": "stdout",
     "output_type": "stream",
     "text": [
      "Pytorch: train_error 2.20% test_error 3.80%\n"
     ]
    },
    {
     "name": "stderr",
     "output_type": "stream",
     "text": [
      "100%|██████████| 100/100 [00:00<00:00, 248.06it/s]\n",
      " 19%|█▉        | 19/100 [00:00<00:00, 189.14it/s]"
     ]
    },
    {
     "name": "stdout",
     "output_type": "stream",
     "text": [
      "Our: train_error 3.50% test_error 4.70%\n"
     ]
    },
    {
     "name": "stderr",
     "output_type": "stream",
     "text": [
      "100%|██████████| 100/100 [00:00<00:00, 186.12it/s]\n",
      " 25%|██▌       | 25/100 [00:00<00:00, 247.91it/s]"
     ]
    },
    {
     "name": "stdout",
     "output_type": "stream",
     "text": [
      "Pytorch: train_error 1.90% test_error 2.30%\n"
     ]
    },
    {
     "name": "stderr",
     "output_type": "stream",
     "text": [
      "100%|██████████| 100/100 [00:00<00:00, 243.26it/s]\n",
      " 20%|██        | 20/100 [00:00<00:00, 191.04it/s]"
     ]
    },
    {
     "name": "stdout",
     "output_type": "stream",
     "text": [
      "Our: train_error 4.50% test_error 4.40%\n"
     ]
    },
    {
     "name": "stderr",
     "output_type": "stream",
     "text": [
      "100%|██████████| 100/100 [00:00<00:00, 184.96it/s]\n",
      " 25%|██▌       | 25/100 [00:00<00:00, 248.08it/s]"
     ]
    },
    {
     "name": "stdout",
     "output_type": "stream",
     "text": [
      "Pytorch: train_error 1.90% test_error 1.70%\n"
     ]
    },
    {
     "name": "stderr",
     "output_type": "stream",
     "text": [
      "100%|██████████| 100/100 [00:00<00:00, 246.32it/s]\n",
      " 20%|██        | 20/100 [00:00<00:00, 190.84it/s]"
     ]
    },
    {
     "name": "stdout",
     "output_type": "stream",
     "text": [
      "Our: train_error 4.40% test_error 4.10%\n"
     ]
    },
    {
     "name": "stderr",
     "output_type": "stream",
     "text": [
      "100%|██████████| 100/100 [00:00<00:00, 185.77it/s]\n",
      " 25%|██▌       | 25/100 [00:00<00:00, 241.21it/s]"
     ]
    },
    {
     "name": "stdout",
     "output_type": "stream",
     "text": [
      "Pytorch: train_error 5.50% test_error 4.90%\n"
     ]
    },
    {
     "name": "stderr",
     "output_type": "stream",
     "text": [
      "100%|██████████| 100/100 [00:00<00:00, 247.36it/s]\n",
      " 19%|█▉        | 19/100 [00:00<00:00, 183.49it/s]"
     ]
    },
    {
     "name": "stdout",
     "output_type": "stream",
     "text": [
      "Our: train_error 4.50% test_error 4.40%\n"
     ]
    },
    {
     "name": "stderr",
     "output_type": "stream",
     "text": [
      "100%|██████████| 100/100 [00:00<00:00, 183.82it/s]\n",
      " 25%|██▌       | 25/100 [00:00<00:00, 249.12it/s]"
     ]
    },
    {
     "name": "stdout",
     "output_type": "stream",
     "text": [
      "Pytorch: train_error 1.60% test_error 2.20%\n"
     ]
    },
    {
     "name": "stderr",
     "output_type": "stream",
     "text": [
      "100%|██████████| 100/100 [00:00<00:00, 244.16it/s]\n",
      " 19%|█▉        | 19/100 [00:00<00:00, 187.35it/s]"
     ]
    },
    {
     "name": "stdout",
     "output_type": "stream",
     "text": [
      "Our: train_error 2.90% test_error 3.00%\n"
     ]
    },
    {
     "name": "stderr",
     "output_type": "stream",
     "text": [
      "100%|██████████| 100/100 [00:00<00:00, 184.64it/s]\n",
      " 25%|██▌       | 25/100 [00:00<00:00, 249.58it/s]"
     ]
    },
    {
     "name": "stdout",
     "output_type": "stream",
     "text": [
      "Pytorch: train_error 2.10% test_error 2.40%\n"
     ]
    },
    {
     "name": "stderr",
     "output_type": "stream",
     "text": [
      "100%|██████████| 100/100 [00:00<00:00, 241.64it/s]\n",
      " 19%|█▉        | 19/100 [00:00<00:00, 188.34it/s]"
     ]
    },
    {
     "name": "stdout",
     "output_type": "stream",
     "text": [
      "Our: train_error 2.90% test_error 4.00%\n"
     ]
    },
    {
     "name": "stderr",
     "output_type": "stream",
     "text": [
      "100%|██████████| 100/100 [00:00<00:00, 184.47it/s]\n",
      " 25%|██▌       | 25/100 [00:00<00:00, 240.47it/s]"
     ]
    },
    {
     "name": "stdout",
     "output_type": "stream",
     "text": [
      "Pytorch: train_error 2.50% test_error 4.00%\n"
     ]
    },
    {
     "name": "stderr",
     "output_type": "stream",
     "text": [
      "100%|██████████| 100/100 [00:00<00:00, 245.54it/s]\n",
      " 19%|█▉        | 19/100 [00:00<00:00, 181.02it/s]"
     ]
    },
    {
     "name": "stdout",
     "output_type": "stream",
     "text": [
      "Our: train_error 3.70% test_error 4.90%\n"
     ]
    },
    {
     "name": "stderr",
     "output_type": "stream",
     "text": [
      "100%|██████████| 100/100 [00:00<00:00, 183.89it/s]\n",
      " 26%|██▌       | 26/100 [00:00<00:00, 250.16it/s]"
     ]
    },
    {
     "name": "stdout",
     "output_type": "stream",
     "text": [
      "Pytorch: train_error 1.10% test_error 2.40%\n"
     ]
    },
    {
     "name": "stderr",
     "output_type": "stream",
     "text": [
      "100%|██████████| 100/100 [00:00<00:00, 243.66it/s]\n",
      " 20%|██        | 20/100 [00:00<00:00, 190.79it/s]"
     ]
    },
    {
     "name": "stdout",
     "output_type": "stream",
     "text": [
      "Our: train_error 2.50% test_error 3.00%\n"
     ]
    },
    {
     "name": "stderr",
     "output_type": "stream",
     "text": [
      "100%|██████████| 100/100 [00:00<00:00, 186.69it/s]\n",
      " 25%|██▌       | 25/100 [00:00<00:00, 248.47it/s]"
     ]
    },
    {
     "name": "stdout",
     "output_type": "stream",
     "text": [
      "Pytorch: train_error 2.50% test_error 2.60%\n"
     ]
    },
    {
     "name": "stderr",
     "output_type": "stream",
     "text": [
      "100%|██████████| 100/100 [00:00<00:00, 244.81it/s]\n",
      " 20%|██        | 20/100 [00:00<00:00, 191.17it/s]"
     ]
    },
    {
     "name": "stdout",
     "output_type": "stream",
     "text": [
      "Our: train_error 2.90% test_error 5.00%\n"
     ]
    },
    {
     "name": "stderr",
     "output_type": "stream",
     "text": [
      "100%|██████████| 100/100 [00:00<00:00, 184.82it/s]\n",
      " 23%|██▎       | 23/100 [00:00<00:00, 227.10it/s]"
     ]
    },
    {
     "name": "stdout",
     "output_type": "stream",
     "text": [
      "Pytorch: train_error 2.10% test_error 3.30%\n"
     ]
    },
    {
     "name": "stderr",
     "output_type": "stream",
     "text": [
      "100%|██████████| 100/100 [00:00<00:00, 221.85it/s]\n",
      " 18%|█▊        | 18/100 [00:00<00:00, 171.81it/s]"
     ]
    },
    {
     "name": "stdout",
     "output_type": "stream",
     "text": [
      "Our: train_error 4.10% test_error 6.60%\n"
     ]
    },
    {
     "name": "stderr",
     "output_type": "stream",
     "text": [
      "100%|██████████| 100/100 [00:00<00:00, 149.81it/s]\n",
      " 22%|██▏       | 22/100 [00:00<00:00, 213.57it/s]"
     ]
    },
    {
     "name": "stdout",
     "output_type": "stream",
     "text": [
      "Pytorch: train_error 2.40% test_error 2.50%\n"
     ]
    },
    {
     "name": "stderr",
     "output_type": "stream",
     "text": [
      "100%|██████████| 100/100 [00:00<00:00, 191.31it/s]\n",
      " 12%|█▏        | 12/100 [00:00<00:00, 119.10it/s]"
     ]
    },
    {
     "name": "stdout",
     "output_type": "stream",
     "text": [
      "Our: train_error 5.30% test_error 5.00%\n"
     ]
    },
    {
     "name": "stderr",
     "output_type": "stream",
     "text": [
      "100%|██████████| 100/100 [00:00<00:00, 123.63it/s]\n",
      " 22%|██▏       | 22/100 [00:00<00:00, 216.95it/s]"
     ]
    },
    {
     "name": "stdout",
     "output_type": "stream",
     "text": [
      "Pytorch: train_error 2.00% test_error 3.60%\n"
     ]
    },
    {
     "name": "stderr",
     "output_type": "stream",
     "text": [
      "100%|██████████| 100/100 [00:00<00:00, 230.84it/s]\n",
      " 19%|█▉        | 19/100 [00:00<00:00, 188.98it/s]"
     ]
    },
    {
     "name": "stdout",
     "output_type": "stream",
     "text": [
      "Our: train_error 3.00% test_error 3.60%\n"
     ]
    },
    {
     "name": "stderr",
     "output_type": "stream",
     "text": [
      "100%|██████████| 100/100 [00:00<00:00, 183.59it/s]\n",
      " 25%|██▌       | 25/100 [00:00<00:00, 247.47it/s]"
     ]
    },
    {
     "name": "stdout",
     "output_type": "stream",
     "text": [
      "Pytorch: train_error 2.90% test_error 4.20%\n"
     ]
    },
    {
     "name": "stderr",
     "output_type": "stream",
     "text": [
      "100%|██████████| 100/100 [00:00<00:00, 241.41it/s]\n",
      " 18%|█▊        | 18/100 [00:00<00:00, 177.98it/s]"
     ]
    },
    {
     "name": "stdout",
     "output_type": "stream",
     "text": [
      "Our: train_error 3.80% test_error 3.80%\n"
     ]
    },
    {
     "name": "stderr",
     "output_type": "stream",
     "text": [
      "100%|██████████| 100/100 [00:00<00:00, 181.02it/s]\n",
      " 20%|██        | 20/100 [00:00<00:00, 187.64it/s]"
     ]
    },
    {
     "name": "stdout",
     "output_type": "stream",
     "text": [
      "Pytorch: train_error 2.90% test_error 2.60%\n"
     ]
    },
    {
     "name": "stderr",
     "output_type": "stream",
     "text": [
      "100%|██████████| 100/100 [00:00<00:00, 196.65it/s]\n",
      " 17%|█▋        | 17/100 [00:00<00:00, 168.81it/s]"
     ]
    },
    {
     "name": "stdout",
     "output_type": "stream",
     "text": [
      "Our: train_error 4.10% test_error 3.60%\n"
     ]
    },
    {
     "name": "stderr",
     "output_type": "stream",
     "text": [
      "100%|██████████| 100/100 [00:00<00:00, 144.43it/s]\n",
      " 24%|██▍       | 24/100 [00:00<00:00, 239.26it/s]"
     ]
    },
    {
     "name": "stdout",
     "output_type": "stream",
     "text": [
      "Pytorch: train_error 2.10% test_error 2.70%\n"
     ]
    },
    {
     "name": "stderr",
     "output_type": "stream",
     "text": [
      "100%|██████████| 100/100 [00:00<00:00, 225.61it/s]\n",
      " 17%|█▋        | 17/100 [00:00<00:00, 169.29it/s]"
     ]
    },
    {
     "name": "stdout",
     "output_type": "stream",
     "text": [
      "Our: train_error 5.00% test_error 4.30%\n"
     ]
    },
    {
     "name": "stderr",
     "output_type": "stream",
     "text": [
      "100%|██████████| 100/100 [00:00<00:00, 169.26it/s]\n",
      " 24%|██▍       | 24/100 [00:00<00:00, 231.49it/s]"
     ]
    },
    {
     "name": "stdout",
     "output_type": "stream",
     "text": [
      "Pytorch: train_error 3.20% test_error 2.90%\n"
     ]
    },
    {
     "name": "stderr",
     "output_type": "stream",
     "text": [
      "100%|██████████| 100/100 [00:00<00:00, 221.86it/s]\n",
      " 16%|█▌        | 16/100 [00:00<00:00, 153.40it/s]"
     ]
    },
    {
     "name": "stdout",
     "output_type": "stream",
     "text": [
      "Our: train_error 2.40% test_error 3.20%\n"
     ]
    },
    {
     "name": "stderr",
     "output_type": "stream",
     "text": [
      "100%|██████████| 100/100 [00:00<00:00, 159.18it/s]\n",
      " 20%|██        | 20/100 [00:00<00:00, 193.22it/s]"
     ]
    },
    {
     "name": "stdout",
     "output_type": "stream",
     "text": [
      "Pytorch: train_error 1.20% test_error 1.90%\n"
     ]
    },
    {
     "name": "stderr",
     "output_type": "stream",
     "text": [
      "100%|██████████| 100/100 [00:00<00:00, 198.95it/s]\n",
      " 13%|█▎        | 13/100 [00:00<00:00, 116.84it/s]"
     ]
    },
    {
     "name": "stdout",
     "output_type": "stream",
     "text": [
      "Our: train_error 3.50% test_error 6.10%\n"
     ]
    },
    {
     "name": "stderr",
     "output_type": "stream",
     "text": [
      "100%|██████████| 100/100 [00:00<00:00, 127.61it/s]\n",
      " 15%|█▌        | 15/100 [00:00<00:00, 136.02it/s]"
     ]
    },
    {
     "name": "stdout",
     "output_type": "stream",
     "text": [
      "Pytorch: train_error 0.70% test_error 2.20%\n"
     ]
    },
    {
     "name": "stderr",
     "output_type": "stream",
     "text": [
      "100%|██████████| 100/100 [00:00<00:00, 180.80it/s]\n",
      " 17%|█▋        | 17/100 [00:00<00:00, 165.35it/s]"
     ]
    },
    {
     "name": "stdout",
     "output_type": "stream",
     "text": [
      "Our: train_error 2.90% test_error 3.20%\n"
     ]
    },
    {
     "name": "stderr",
     "output_type": "stream",
     "text": [
      "100%|██████████| 100/100 [00:00<00:00, 171.85it/s]\n",
      " 25%|██▌       | 25/100 [00:00<00:00, 243.82it/s]"
     ]
    },
    {
     "name": "stdout",
     "output_type": "stream",
     "text": [
      "Pytorch: train_error 1.60% test_error 3.00%\n"
     ]
    },
    {
     "name": "stderr",
     "output_type": "stream",
     "text": [
      "100%|██████████| 100/100 [00:00<00:00, 244.33it/s]\n",
      " 19%|█▉        | 19/100 [00:00<00:00, 181.10it/s]"
     ]
    },
    {
     "name": "stdout",
     "output_type": "stream",
     "text": [
      "Our: train_error 4.10% test_error 4.40%\n"
     ]
    },
    {
     "name": "stderr",
     "output_type": "stream",
     "text": [
      "100%|██████████| 100/100 [00:00<00:00, 148.41it/s]\n",
      " 11%|█         | 11/100 [00:00<00:00, 105.13it/s]"
     ]
    },
    {
     "name": "stdout",
     "output_type": "stream",
     "text": [
      "Pytorch: train_error 3.60% test_error 4.90%\n"
     ]
    },
    {
     "name": "stderr",
     "output_type": "stream",
     "text": [
      "100%|██████████| 100/100 [00:00<00:00, 165.78it/s]\n",
      " 12%|█▏        | 12/100 [00:00<00:00, 118.60it/s]"
     ]
    },
    {
     "name": "stdout",
     "output_type": "stream",
     "text": [
      "Our: train_error 4.20% test_error 3.80%\n"
     ]
    },
    {
     "name": "stderr",
     "output_type": "stream",
     "text": [
      "100%|██████████| 100/100 [00:00<00:00, 116.61it/s]\n",
      " 18%|█▊        | 18/100 [00:00<00:00, 176.05it/s]"
     ]
    },
    {
     "name": "stdout",
     "output_type": "stream",
     "text": [
      "Pytorch: train_error 2.30% test_error 2.90%\n"
     ]
    },
    {
     "name": "stderr",
     "output_type": "stream",
     "text": [
      "100%|██████████| 100/100 [00:00<00:00, 132.72it/s]\n",
      " 15%|█▌        | 15/100 [00:00<00:00, 139.23it/s]"
     ]
    },
    {
     "name": "stdout",
     "output_type": "stream",
     "text": [
      "Our: train_error 5.80% test_error 8.20%\n"
     ]
    },
    {
     "name": "stderr",
     "output_type": "stream",
     "text": [
      "100%|██████████| 100/100 [00:00<00:00, 133.58it/s]\n",
      " 24%|██▍       | 24/100 [00:00<00:00, 232.86it/s]"
     ]
    },
    {
     "name": "stdout",
     "output_type": "stream",
     "text": [
      "Pytorch: train_error 4.30% test_error 6.00%\n"
     ]
    },
    {
     "name": "stderr",
     "output_type": "stream",
     "text": [
      "100%|██████████| 100/100 [00:00<00:00, 188.87it/s]\n",
      " 18%|█▊        | 18/100 [00:00<00:00, 176.39it/s]"
     ]
    },
    {
     "name": "stdout",
     "output_type": "stream",
     "text": [
      "Our: train_error 3.80% test_error 7.00%\n"
     ]
    },
    {
     "name": "stderr",
     "output_type": "stream",
     "text": [
      "100%|██████████| 100/100 [00:00<00:00, 171.24it/s]\n",
      " 21%|██        | 21/100 [00:00<00:00, 209.40it/s]"
     ]
    },
    {
     "name": "stdout",
     "output_type": "stream",
     "text": [
      "Pytorch: train_error 2.00% test_error 3.70%\n"
     ]
    },
    {
     "name": "stderr",
     "output_type": "stream",
     "text": [
      "100%|██████████| 100/100 [00:00<00:00, 168.97it/s]\n",
      " 18%|█▊        | 18/100 [00:00<00:00, 176.10it/s]"
     ]
    },
    {
     "name": "stdout",
     "output_type": "stream",
     "text": [
      "Our: train_error 4.50% test_error 3.40%\n"
     ]
    },
    {
     "name": "stderr",
     "output_type": "stream",
     "text": [
      "100%|██████████| 100/100 [00:00<00:00, 171.02it/s]\n",
      " 23%|██▎       | 23/100 [00:00<00:00, 224.62it/s]"
     ]
    },
    {
     "name": "stdout",
     "output_type": "stream",
     "text": [
      "Pytorch: train_error 3.10% test_error 2.20%\n"
     ]
    },
    {
     "name": "stderr",
     "output_type": "stream",
     "text": [
      "100%|██████████| 100/100 [00:00<00:00, 198.39it/s]\n",
      " 18%|█▊        | 18/100 [00:00<00:00, 175.37it/s]"
     ]
    },
    {
     "name": "stdout",
     "output_type": "stream",
     "text": [
      "Our: train_error 3.60% test_error 3.70%\n"
     ]
    },
    {
     "name": "stderr",
     "output_type": "stream",
     "text": [
      "100%|██████████| 100/100 [00:00<00:00, 165.34it/s]\n",
      " 23%|██▎       | 23/100 [00:00<00:00, 221.28it/s]"
     ]
    },
    {
     "name": "stdout",
     "output_type": "stream",
     "text": [
      "Pytorch: train_error 2.60% test_error 2.60%\n"
     ]
    },
    {
     "name": "stderr",
     "output_type": "stream",
     "text": [
      "100%|██████████| 100/100 [00:00<00:00, 222.54it/s]\n",
      " 18%|█▊        | 18/100 [00:00<00:00, 177.37it/s]"
     ]
    },
    {
     "name": "stdout",
     "output_type": "stream",
     "text": [
      "Our: train_error 4.40% test_error 5.10%\n"
     ]
    },
    {
     "name": "stderr",
     "output_type": "stream",
     "text": [
      "100%|██████████| 100/100 [00:00<00:00, 168.70it/s]\n",
      " 24%|██▍       | 24/100 [00:00<00:00, 233.50it/s]"
     ]
    },
    {
     "name": "stdout",
     "output_type": "stream",
     "text": [
      "Pytorch: train_error 2.90% test_error 2.90%\n"
     ]
    },
    {
     "name": "stderr",
     "output_type": "stream",
     "text": [
      "100%|██████████| 100/100 [00:00<00:00, 212.41it/s]\n",
      " 18%|█▊        | 18/100 [00:00<00:00, 178.74it/s]"
     ]
    },
    {
     "name": "stdout",
     "output_type": "stream",
     "text": [
      "Our: train_error 3.80% test_error 4.90%\n"
     ]
    },
    {
     "name": "stderr",
     "output_type": "stream",
     "text": [
      "100%|██████████| 100/100 [00:00<00:00, 170.44it/s]\n",
      " 23%|██▎       | 23/100 [00:00<00:00, 228.35it/s]"
     ]
    },
    {
     "name": "stdout",
     "output_type": "stream",
     "text": [
      "Pytorch: train_error 1.50% test_error 2.20%\n"
     ]
    },
    {
     "name": "stderr",
     "output_type": "stream",
     "text": [
      "100%|██████████| 100/100 [00:00<00:00, 218.97it/s]\n",
      " 17%|█▋        | 17/100 [00:00<00:00, 166.60it/s]"
     ]
    },
    {
     "name": "stdout",
     "output_type": "stream",
     "text": [
      "Our: train_error 3.10% test_error 3.20%\n"
     ]
    },
    {
     "name": "stderr",
     "output_type": "stream",
     "text": [
      "100%|██████████| 100/100 [00:00<00:00, 164.85it/s]\n",
      " 24%|██▍       | 24/100 [00:00<00:00, 238.87it/s]"
     ]
    },
    {
     "name": "stdout",
     "output_type": "stream",
     "text": [
      "Pytorch: train_error 2.20% test_error 3.00%\n"
     ]
    },
    {
     "name": "stderr",
     "output_type": "stream",
     "text": [
      "100%|██████████| 100/100 [00:00<00:00, 224.08it/s]\n",
      " 17%|█▋        | 17/100 [00:00<00:00, 168.27it/s]"
     ]
    },
    {
     "name": "stdout",
     "output_type": "stream",
     "text": [
      "Our: train_error 2.80% test_error 3.40%\n"
     ]
    },
    {
     "name": "stderr",
     "output_type": "stream",
     "text": [
      "100%|██████████| 100/100 [00:00<00:00, 165.38it/s]\n",
      " 24%|██▍       | 24/100 [00:00<00:00, 235.31it/s]"
     ]
    },
    {
     "name": "stdout",
     "output_type": "stream",
     "text": [
      "Pytorch: train_error 2.60% test_error 3.00%\n"
     ]
    },
    {
     "name": "stderr",
     "output_type": "stream",
     "text": [
      "100%|██████████| 100/100 [00:00<00:00, 203.42it/s]\n",
      " 17%|█▋        | 17/100 [00:00<00:00, 168.53it/s]"
     ]
    },
    {
     "name": "stdout",
     "output_type": "stream",
     "text": [
      "Our: train_error 3.00% test_error 3.70%\n"
     ]
    },
    {
     "name": "stderr",
     "output_type": "stream",
     "text": [
      "100%|██████████| 100/100 [00:00<00:00, 161.89it/s]\n",
      " 24%|██▍       | 24/100 [00:00<00:00, 236.67it/s]"
     ]
    },
    {
     "name": "stdout",
     "output_type": "stream",
     "text": [
      "Pytorch: train_error 1.40% test_error 2.70%\n"
     ]
    },
    {
     "name": "stderr",
     "output_type": "stream",
     "text": [
      "100%|██████████| 100/100 [00:00<00:00, 218.74it/s]\n",
      " 18%|█▊        | 18/100 [00:00<00:00, 175.81it/s]"
     ]
    },
    {
     "name": "stdout",
     "output_type": "stream",
     "text": [
      "Our: train_error 3.30% test_error 3.30%\n"
     ]
    },
    {
     "name": "stderr",
     "output_type": "stream",
     "text": [
      "100%|██████████| 100/100 [00:00<00:00, 172.33it/s]\n",
      " 23%|██▎       | 23/100 [00:00<00:00, 224.70it/s]"
     ]
    },
    {
     "name": "stdout",
     "output_type": "stream",
     "text": [
      "Pytorch: train_error 1.10% test_error 1.10%\n"
     ]
    },
    {
     "name": "stderr",
     "output_type": "stream",
     "text": [
      "100%|██████████| 100/100 [00:00<00:00, 226.53it/s]\n",
      " 17%|█▋        | 17/100 [00:00<00:00, 168.29it/s]"
     ]
    },
    {
     "name": "stdout",
     "output_type": "stream",
     "text": [
      "Our: train_error 2.80% test_error 3.60%\n"
     ]
    },
    {
     "name": "stderr",
     "output_type": "stream",
     "text": [
      "100%|██████████| 100/100 [00:00<00:00, 169.16it/s]\n",
      " 24%|██▍       | 24/100 [00:00<00:00, 238.54it/s]"
     ]
    },
    {
     "name": "stdout",
     "output_type": "stream",
     "text": [
      "Pytorch: train_error 2.00% test_error 2.70%\n"
     ]
    },
    {
     "name": "stderr",
     "output_type": "stream",
     "text": [
      "100%|██████████| 100/100 [00:00<00:00, 224.61it/s]\n",
      " 18%|█▊        | 18/100 [00:00<00:00, 175.53it/s]"
     ]
    },
    {
     "name": "stdout",
     "output_type": "stream",
     "text": [
      "Our: train_error 3.90% test_error 3.90%\n"
     ]
    },
    {
     "name": "stderr",
     "output_type": "stream",
     "text": [
      "100%|██████████| 100/100 [00:00<00:00, 167.77it/s]\n",
      " 24%|██▍       | 24/100 [00:00<00:00, 238.58it/s]"
     ]
    },
    {
     "name": "stdout",
     "output_type": "stream",
     "text": [
      "Pytorch: train_error 2.80% test_error 2.70%\n"
     ]
    },
    {
     "name": "stderr",
     "output_type": "stream",
     "text": [
      "100%|██████████| 100/100 [00:00<00:00, 188.90it/s]\n",
      " 12%|█▏        | 12/100 [00:00<00:00, 113.76it/s]"
     ]
    },
    {
     "name": "stdout",
     "output_type": "stream",
     "text": [
      "Our: train_error 2.00% test_error 2.60%\n"
     ]
    },
    {
     "name": "stderr",
     "output_type": "stream",
     "text": [
      "100%|██████████| 100/100 [00:00<00:00, 138.69it/s]\n",
      " 20%|██        | 20/100 [00:00<00:00, 198.91it/s]"
     ]
    },
    {
     "name": "stdout",
     "output_type": "stream",
     "text": [
      "Pytorch: train_error 2.00% test_error 3.40%\n"
     ]
    },
    {
     "name": "stderr",
     "output_type": "stream",
     "text": [
      "100%|██████████| 100/100 [00:00<00:00, 212.15it/s]\n",
      " 17%|█▋        | 17/100 [00:00<00:00, 164.11it/s]"
     ]
    },
    {
     "name": "stdout",
     "output_type": "stream",
     "text": [
      "Our: train_error 3.00% test_error 3.40%\n"
     ]
    },
    {
     "name": "stderr",
     "output_type": "stream",
     "text": [
      "100%|██████████| 100/100 [00:00<00:00, 160.32it/s]\n",
      " 22%|██▏       | 22/100 [00:00<00:00, 218.05it/s]"
     ]
    },
    {
     "name": "stdout",
     "output_type": "stream",
     "text": [
      "Pytorch: train_error 2.20% test_error 3.70%\n"
     ]
    },
    {
     "name": "stderr",
     "output_type": "stream",
     "text": [
      "100%|██████████| 100/100 [00:00<00:00, 205.61it/s]\n",
      " 16%|█▌        | 16/100 [00:00<00:00, 157.61it/s]"
     ]
    },
    {
     "name": "stdout",
     "output_type": "stream",
     "text": [
      "Our: train_error 4.40% test_error 3.10%\n"
     ]
    },
    {
     "name": "stderr",
     "output_type": "stream",
     "text": [
      "100%|██████████| 100/100 [00:00<00:00, 155.70it/s]\n",
      " 21%|██        | 21/100 [00:00<00:00, 203.32it/s]"
     ]
    },
    {
     "name": "stdout",
     "output_type": "stream",
     "text": [
      "Pytorch: train_error 3.90% test_error 3.00%\n"
     ]
    },
    {
     "name": "stderr",
     "output_type": "stream",
     "text": [
      "100%|██████████| 100/100 [00:00<00:00, 199.60it/s]\n",
      " 17%|█▋        | 17/100 [00:00<00:00, 162.47it/s]"
     ]
    },
    {
     "name": "stdout",
     "output_type": "stream",
     "text": [
      "Our: train_error 4.20% test_error 6.50%\n"
     ]
    },
    {
     "name": "stderr",
     "output_type": "stream",
     "text": [
      "100%|██████████| 100/100 [00:00<00:00, 160.14it/s]\n",
      " 23%|██▎       | 23/100 [00:00<00:00, 223.05it/s]"
     ]
    },
    {
     "name": "stdout",
     "output_type": "stream",
     "text": [
      "Pytorch: train_error 3.70% test_error 5.10%\n"
     ]
    },
    {
     "name": "stderr",
     "output_type": "stream",
     "text": [
      "100%|██████████| 100/100 [00:00<00:00, 220.32it/s]\n",
      " 17%|█▋        | 17/100 [00:00<00:00, 163.30it/s]"
     ]
    },
    {
     "name": "stdout",
     "output_type": "stream",
     "text": [
      "Our: train_error 3.40% test_error 5.00%\n"
     ]
    },
    {
     "name": "stderr",
     "output_type": "stream",
     "text": [
      "100%|██████████| 100/100 [00:00<00:00, 162.25it/s]\n",
      " 23%|██▎       | 23/100 [00:00<00:00, 221.06it/s]"
     ]
    },
    {
     "name": "stdout",
     "output_type": "stream",
     "text": [
      "Pytorch: train_error 1.70% test_error 2.90%\n"
     ]
    },
    {
     "name": "stderr",
     "output_type": "stream",
     "text": [
      "100%|██████████| 100/100 [00:00<00:00, 218.26it/s]\n",
      " 15%|█▌        | 15/100 [00:00<00:00, 148.32it/s]"
     ]
    },
    {
     "name": "stdout",
     "output_type": "stream",
     "text": [
      "Our: train_error 2.50% test_error 4.20%\n"
     ]
    },
    {
     "name": "stderr",
     "output_type": "stream",
     "text": [
      "100%|██████████| 100/100 [00:00<00:00, 149.76it/s]\n",
      " 22%|██▏       | 22/100 [00:00<00:00, 217.57it/s]"
     ]
    },
    {
     "name": "stdout",
     "output_type": "stream",
     "text": [
      "Pytorch: train_error 2.00% test_error 3.90%\n"
     ]
    },
    {
     "name": "stderr",
     "output_type": "stream",
     "text": [
      "100%|██████████| 100/100 [00:00<00:00, 209.07it/s]\n",
      " 17%|█▋        | 17/100 [00:00<00:00, 163.09it/s]"
     ]
    },
    {
     "name": "stdout",
     "output_type": "stream",
     "text": [
      "Our: train_error 2.60% test_error 4.50%\n"
     ]
    },
    {
     "name": "stderr",
     "output_type": "stream",
     "text": [
      "100%|██████████| 100/100 [00:00<00:00, 156.72it/s]\n",
      " 21%|██        | 21/100 [00:00<00:00, 203.15it/s]"
     ]
    },
    {
     "name": "stdout",
     "output_type": "stream",
     "text": [
      "Pytorch: train_error 3.40% test_error 4.90%\n"
     ]
    },
    {
     "name": "stderr",
     "output_type": "stream",
     "text": [
      "100%|██████████| 100/100 [00:00<00:00, 214.36it/s]\n",
      " 15%|█▌        | 15/100 [00:00<00:00, 148.55it/s]"
     ]
    },
    {
     "name": "stdout",
     "output_type": "stream",
     "text": [
      "Our: train_error 5.90% test_error 5.60%\n"
     ]
    },
    {
     "name": "stderr",
     "output_type": "stream",
     "text": [
      "100%|██████████| 100/100 [00:00<00:00, 151.29it/s]\n",
      " 21%|██        | 21/100 [00:00<00:00, 204.76it/s]"
     ]
    },
    {
     "name": "stdout",
     "output_type": "stream",
     "text": [
      "Pytorch: train_error 3.40% test_error 2.80%\n"
     ]
    },
    {
     "name": "stderr",
     "output_type": "stream",
     "text": [
      "100%|██████████| 100/100 [00:00<00:00, 198.08it/s]\n",
      " 14%|█▍        | 14/100 [00:00<00:00, 131.04it/s]"
     ]
    },
    {
     "name": "stdout",
     "output_type": "stream",
     "text": [
      "Our: train_error 4.30% test_error 4.50%\n"
     ]
    },
    {
     "name": "stderr",
     "output_type": "stream",
     "text": [
      "100%|██████████| 100/100 [00:00<00:00, 128.61it/s]\n",
      " 16%|█▌        | 16/100 [00:00<00:00, 154.98it/s]"
     ]
    },
    {
     "name": "stdout",
     "output_type": "stream",
     "text": [
      "Pytorch: train_error 3.70% test_error 3.70%\n"
     ]
    },
    {
     "name": "stderr",
     "output_type": "stream",
     "text": [
      "100%|██████████| 100/100 [00:00<00:00, 193.52it/s]\n",
      " 16%|█▌        | 16/100 [00:00<00:00, 152.07it/s]"
     ]
    },
    {
     "name": "stdout",
     "output_type": "stream",
     "text": [
      "Our: train_error 3.70% test_error 4.20%\n"
     ]
    },
    {
     "name": "stderr",
     "output_type": "stream",
     "text": [
      "100%|██████████| 100/100 [00:00<00:00, 161.82it/s]\n",
      " 23%|██▎       | 23/100 [00:00<00:00, 227.21it/s]"
     ]
    },
    {
     "name": "stdout",
     "output_type": "stream",
     "text": [
      "Pytorch: train_error 2.20% test_error 3.50%\n"
     ]
    },
    {
     "name": "stderr",
     "output_type": "stream",
     "text": [
      "100%|██████████| 100/100 [00:00<00:00, 221.09it/s]\n",
      " 18%|█▊        | 18/100 [00:00<00:00, 177.85it/s]"
     ]
    },
    {
     "name": "stdout",
     "output_type": "stream",
     "text": [
      "Our: train_error 5.30% test_error 5.10%\n"
     ]
    },
    {
     "name": "stderr",
     "output_type": "stream",
     "text": [
      "100%|██████████| 100/100 [00:00<00:00, 167.86it/s]\n",
      " 23%|██▎       | 23/100 [00:00<00:00, 225.51it/s]"
     ]
    },
    {
     "name": "stdout",
     "output_type": "stream",
     "text": [
      "Pytorch: train_error 2.40% test_error 2.90%\n"
     ]
    },
    {
     "name": "stderr",
     "output_type": "stream",
     "text": [
      "100%|██████████| 100/100 [00:00<00:00, 222.88it/s]\n",
      " 18%|█▊        | 18/100 [00:00<00:00, 179.01it/s]"
     ]
    },
    {
     "name": "stdout",
     "output_type": "stream",
     "text": [
      "Our: train_error 3.10% test_error 3.60%\n"
     ]
    },
    {
     "name": "stderr",
     "output_type": "stream",
     "text": [
      "100%|██████████| 100/100 [00:00<00:00, 171.50it/s]\n",
      " 24%|██▍       | 24/100 [00:00<00:00, 238.65it/s]"
     ]
    },
    {
     "name": "stdout",
     "output_type": "stream",
     "text": [
      "Pytorch: train_error 4.20% test_error 4.50%\n"
     ]
    },
    {
     "name": "stderr",
     "output_type": "stream",
     "text": [
      "100%|██████████| 100/100 [00:00<00:00, 229.32it/s]\n",
      " 19%|█▉        | 19/100 [00:00<00:00, 181.11it/s]"
     ]
    },
    {
     "name": "stdout",
     "output_type": "stream",
     "text": [
      "Our: train_error 4.80% test_error 5.40%\n"
     ]
    },
    {
     "name": "stderr",
     "output_type": "stream",
     "text": [
      "100%|██████████| 100/100 [00:00<00:00, 172.06it/s]\n",
      " 24%|██▍       | 24/100 [00:00<00:00, 235.67it/s]"
     ]
    },
    {
     "name": "stdout",
     "output_type": "stream",
     "text": [
      "Pytorch: train_error 4.50% test_error 5.70%\n"
     ]
    },
    {
     "name": "stderr",
     "output_type": "stream",
     "text": [
      "100%|██████████| 100/100 [00:00<00:00, 219.84it/s]\n",
      " 18%|█▊        | 18/100 [00:00<00:00, 172.45it/s]"
     ]
    },
    {
     "name": "stdout",
     "output_type": "stream",
     "text": [
      "Our: train_error 3.00% test_error 2.70%\n"
     ]
    },
    {
     "name": "stderr",
     "output_type": "stream",
     "text": [
      "100%|██████████| 100/100 [00:00<00:00, 170.12it/s]\n",
      " 24%|██▍       | 24/100 [00:00<00:00, 237.79it/s]"
     ]
    },
    {
     "name": "stdout",
     "output_type": "stream",
     "text": [
      "Pytorch: train_error 2.40% test_error 2.60%\n"
     ]
    },
    {
     "name": "stderr",
     "output_type": "stream",
     "text": [
      "100%|██████████| 100/100 [00:00<00:00, 221.60it/s]\n",
      " 18%|█▊        | 18/100 [00:00<00:00, 173.08it/s]"
     ]
    },
    {
     "name": "stdout",
     "output_type": "stream",
     "text": [
      "Our: train_error 3.20% test_error 4.40%\n"
     ]
    },
    {
     "name": "stderr",
     "output_type": "stream",
     "text": [
      "100%|██████████| 100/100 [00:00<00:00, 170.69it/s]\n",
      " 24%|██▍       | 24/100 [00:00<00:00, 235.47it/s]"
     ]
    },
    {
     "name": "stdout",
     "output_type": "stream",
     "text": [
      "Pytorch: train_error 2.10% test_error 3.60%\n"
     ]
    },
    {
     "name": "stderr",
     "output_type": "stream",
     "text": [
      "100%|██████████| 100/100 [00:00<00:00, 225.10it/s]\n",
      " 18%|█▊        | 18/100 [00:00<00:00, 177.54it/s]"
     ]
    },
    {
     "name": "stdout",
     "output_type": "stream",
     "text": [
      "Our: train_error 3.70% test_error 5.60%\n"
     ]
    },
    {
     "name": "stderr",
     "output_type": "stream",
     "text": [
      "100%|██████████| 100/100 [00:00<00:00, 168.85it/s]\n",
      " 22%|██▏       | 22/100 [00:00<00:00, 214.52it/s]"
     ]
    },
    {
     "name": "stdout",
     "output_type": "stream",
     "text": [
      "Pytorch: train_error 2.10% test_error 4.10%\n"
     ]
    },
    {
     "name": "stderr",
     "output_type": "stream",
     "text": [
      "100%|██████████| 100/100 [00:00<00:00, 193.62it/s]\n",
      " 15%|█▌        | 15/100 [00:00<00:00, 144.36it/s]"
     ]
    },
    {
     "name": "stdout",
     "output_type": "stream",
     "text": [
      "Our: train_error 3.10% test_error 4.30%\n"
     ]
    },
    {
     "name": "stderr",
     "output_type": "stream",
     "text": [
      "100%|██████████| 100/100 [00:00<00:00, 164.61it/s]\n",
      " 23%|██▎       | 23/100 [00:00<00:00, 221.78it/s]"
     ]
    },
    {
     "name": "stdout",
     "output_type": "stream",
     "text": [
      "Pytorch: train_error 2.20% test_error 2.80%\n"
     ]
    },
    {
     "name": "stderr",
     "output_type": "stream",
     "text": [
      "100%|██████████| 100/100 [00:00<00:00, 225.89it/s]\n",
      " 16%|█▌        | 16/100 [00:00<00:00, 154.18it/s]"
     ]
    },
    {
     "name": "stdout",
     "output_type": "stream",
     "text": [
      "Our: train_error 4.30% test_error 3.50%\n"
     ]
    },
    {
     "name": "stderr",
     "output_type": "stream",
     "text": [
      "100%|██████████| 100/100 [00:00<00:00, 163.36it/s]\n",
      " 24%|██▍       | 24/100 [00:00<00:00, 236.62it/s]"
     ]
    },
    {
     "name": "stdout",
     "output_type": "stream",
     "text": [
      "Pytorch: train_error 3.10% test_error 1.60%\n"
     ]
    },
    {
     "name": "stderr",
     "output_type": "stream",
     "text": [
      "100%|██████████| 100/100 [00:00<00:00, 217.91it/s]\n",
      " 18%|█▊        | 18/100 [00:00<00:00, 175.79it/s]"
     ]
    },
    {
     "name": "stdout",
     "output_type": "stream",
     "text": [
      "Our: train_error 3.50% test_error 3.20%\n"
     ]
    },
    {
     "name": "stderr",
     "output_type": "stream",
     "text": [
      "100%|██████████| 100/100 [00:00<00:00, 170.41it/s]\n",
      " 24%|██▍       | 24/100 [00:00<00:00, 236.81it/s]"
     ]
    },
    {
     "name": "stdout",
     "output_type": "stream",
     "text": [
      "Pytorch: train_error 2.00% test_error 2.30%\n"
     ]
    },
    {
     "name": "stderr",
     "output_type": "stream",
     "text": [
      "100%|██████████| 100/100 [00:00<00:00, 227.41it/s]\n",
      " 18%|█▊        | 18/100 [00:00<00:00, 178.50it/s]"
     ]
    },
    {
     "name": "stdout",
     "output_type": "stream",
     "text": [
      "Our: train_error 2.90% test_error 3.60%\n"
     ]
    },
    {
     "name": "stderr",
     "output_type": "stream",
     "text": [
      "100%|██████████| 100/100 [00:00<00:00, 173.47it/s]\n",
      " 17%|█▋        | 17/100 [00:00<00:00, 161.74it/s]"
     ]
    },
    {
     "name": "stdout",
     "output_type": "stream",
     "text": [
      "Pytorch: train_error 1.80% test_error 2.30%\n"
     ]
    },
    {
     "name": "stderr",
     "output_type": "stream",
     "text": [
      "100%|██████████| 100/100 [00:00<00:00, 132.93it/s]\n",
      " 19%|█▉        | 19/100 [00:00<00:00, 188.75it/s]"
     ]
    },
    {
     "name": "stdout",
     "output_type": "stream",
     "text": [
      "Our: train_error 3.40% test_error 5.00%\n"
     ]
    },
    {
     "name": "stderr",
     "output_type": "stream",
     "text": [
      "100%|██████████| 100/100 [00:00<00:00, 162.60it/s]\n",
      " 21%|██        | 21/100 [00:00<00:00, 204.29it/s]"
     ]
    },
    {
     "name": "stdout",
     "output_type": "stream",
     "text": [
      "Pytorch: train_error 2.30% test_error 3.60%\n"
     ]
    },
    {
     "name": "stderr",
     "output_type": "stream",
     "text": [
      "100%|██████████| 100/100 [00:00<00:00, 233.00it/s]\n",
      "  9%|▉         | 9/100 [00:00<00:01, 88.59it/s]"
     ]
    },
    {
     "name": "stdout",
     "output_type": "stream",
     "text": [
      "Our: train_error 3.20% test_error 3.30%\n"
     ]
    },
    {
     "name": "stderr",
     "output_type": "stream",
     "text": [
      "100%|██████████| 100/100 [00:00<00:00, 113.59it/s]\n",
      " 16%|█▌        | 16/100 [00:00<00:00, 157.50it/s]"
     ]
    },
    {
     "name": "stdout",
     "output_type": "stream",
     "text": [
      "Pytorch: train_error 2.10% test_error 3.20%\n"
     ]
    },
    {
     "name": "stderr",
     "output_type": "stream",
     "text": [
      "100%|██████████| 100/100 [00:00<00:00, 188.75it/s]\n",
      " 15%|█▌        | 15/100 [00:00<00:00, 148.04it/s]"
     ]
    },
    {
     "name": "stdout",
     "output_type": "stream",
     "text": [
      "Our: train_error 2.90% test_error 2.70%\n"
     ]
    },
    {
     "name": "stderr",
     "output_type": "stream",
     "text": [
      "100%|██████████| 100/100 [00:00<00:00, 136.80it/s]\n",
      " 21%|██        | 21/100 [00:00<00:00, 195.89it/s]"
     ]
    },
    {
     "name": "stdout",
     "output_type": "stream",
     "text": [
      "Pytorch: train_error 2.90% test_error 1.90%\n"
     ]
    },
    {
     "name": "stderr",
     "output_type": "stream",
     "text": [
      "100%|██████████| 100/100 [00:00<00:00, 162.29it/s]\n",
      " 13%|█▎        | 13/100 [00:00<00:00, 126.39it/s]"
     ]
    },
    {
     "name": "stdout",
     "output_type": "stream",
     "text": [
      "Our: train_error 2.70% test_error 3.30%\n"
     ]
    },
    {
     "name": "stderr",
     "output_type": "stream",
     "text": [
      "100%|██████████| 100/100 [00:00<00:00, 110.96it/s]\n",
      " 21%|██        | 21/100 [00:00<00:00, 197.49it/s]"
     ]
    },
    {
     "name": "stdout",
     "output_type": "stream",
     "text": [
      "Pytorch: train_error 5.70% test_error 5.60%\n"
     ]
    },
    {
     "name": "stderr",
     "output_type": "stream",
     "text": [
      "100%|██████████| 100/100 [00:00<00:00, 132.96it/s]\n",
      " 18%|█▊        | 18/100 [00:00<00:00, 178.25it/s]"
     ]
    },
    {
     "name": "stdout",
     "output_type": "stream",
     "text": [
      "Our: train_error 6.00% test_error 6.60%\n"
     ]
    },
    {
     "name": "stderr",
     "output_type": "stream",
     "text": [
      "100%|██████████| 100/100 [00:00<00:00, 156.52it/s]\n",
      " 23%|██▎       | 23/100 [00:00<00:00, 220.09it/s]"
     ]
    },
    {
     "name": "stdout",
     "output_type": "stream",
     "text": [
      "Pytorch: train_error 3.40% test_error 3.90%\n"
     ]
    },
    {
     "name": "stderr",
     "output_type": "stream",
     "text": [
      "100%|██████████| 100/100 [00:00<00:00, 194.22it/s]\n",
      " 20%|██        | 20/100 [00:00<00:00, 190.44it/s]"
     ]
    },
    {
     "name": "stdout",
     "output_type": "stream",
     "text": [
      "Our: train_error 3.80% test_error 4.00%\n"
     ]
    },
    {
     "name": "stderr",
     "output_type": "stream",
     "text": [
      "100%|██████████| 100/100 [00:00<00:00, 180.91it/s]\n",
      " 24%|██▍       | 24/100 [00:00<00:00, 232.98it/s]"
     ]
    },
    {
     "name": "stdout",
     "output_type": "stream",
     "text": [
      "Pytorch: train_error 4.40% test_error 4.00%\n"
     ]
    },
    {
     "name": "stderr",
     "output_type": "stream",
     "text": [
      "100%|██████████| 100/100 [00:00<00:00, 237.46it/s]\n",
      " 19%|█▉        | 19/100 [00:00<00:00, 184.64it/s]"
     ]
    },
    {
     "name": "stdout",
     "output_type": "stream",
     "text": [
      "Our: train_error 3.00% test_error 3.80%\n"
     ]
    },
    {
     "name": "stderr",
     "output_type": "stream",
     "text": [
      "100%|██████████| 100/100 [00:00<00:00, 172.26it/s]\n",
      " 25%|██▌       | 25/100 [00:00<00:00, 248.97it/s]"
     ]
    },
    {
     "name": "stdout",
     "output_type": "stream",
     "text": [
      "Pytorch: train_error 2.20% test_error 3.20%\n"
     ]
    },
    {
     "name": "stderr",
     "output_type": "stream",
     "text": [
      "100%|██████████| 100/100 [00:00<00:00, 239.71it/s]\n",
      " 19%|█▉        | 19/100 [00:00<00:00, 187.21it/s]"
     ]
    },
    {
     "name": "stdout",
     "output_type": "stream",
     "text": [
      "Our: train_error 3.70% test_error 5.30%\n"
     ]
    },
    {
     "name": "stderr",
     "output_type": "stream",
     "text": [
      "100%|██████████| 100/100 [00:00<00:00, 168.30it/s]\n",
      " 23%|██▎       | 23/100 [00:00<00:00, 229.44it/s]"
     ]
    },
    {
     "name": "stdout",
     "output_type": "stream",
     "text": [
      "Pytorch: train_error 2.50% test_error 3.90%\n"
     ]
    },
    {
     "name": "stderr",
     "output_type": "stream",
     "text": [
      "100%|██████████| 100/100 [00:00<00:00, 239.36it/s]\n",
      " 20%|██        | 20/100 [00:00<00:00, 191.52it/s]"
     ]
    },
    {
     "name": "stdout",
     "output_type": "stream",
     "text": [
      "Our: train_error 3.20% test_error 3.10%\n"
     ]
    },
    {
     "name": "stderr",
     "output_type": "stream",
     "text": [
      "100%|██████████| 100/100 [00:00<00:00, 182.85it/s]\n",
      " 25%|██▌       | 25/100 [00:00<00:00, 245.73it/s]"
     ]
    },
    {
     "name": "stdout",
     "output_type": "stream",
     "text": [
      "Pytorch: train_error 2.10% test_error 2.70%\n"
     ]
    },
    {
     "name": "stderr",
     "output_type": "stream",
     "text": [
      "100%|██████████| 100/100 [00:00<00:00, 240.75it/s]\n",
      " 20%|██        | 20/100 [00:00<00:00, 191.51it/s]"
     ]
    },
    {
     "name": "stdout",
     "output_type": "stream",
     "text": [
      "Our: train_error 4.80% test_error 5.40%\n"
     ]
    },
    {
     "name": "stderr",
     "output_type": "stream",
     "text": [
      "100%|██████████| 100/100 [00:00<00:00, 188.85it/s]\n",
      " 25%|██▌       | 25/100 [00:00<00:00, 249.78it/s]"
     ]
    },
    {
     "name": "stdout",
     "output_type": "stream",
     "text": [
      "Pytorch: train_error 4.60% test_error 6.30%\n"
     ]
    },
    {
     "name": "stderr",
     "output_type": "stream",
     "text": [
      "100%|██████████| 100/100 [00:00<00:00, 248.34it/s]\n",
      " 19%|█▉        | 19/100 [00:00<00:00, 188.75it/s]"
     ]
    },
    {
     "name": "stdout",
     "output_type": "stream",
     "text": [
      "Our: train_error 4.30% test_error 4.60%\n"
     ]
    },
    {
     "name": "stderr",
     "output_type": "stream",
     "text": [
      "100%|██████████| 100/100 [00:00<00:00, 186.47it/s]\n",
      " 25%|██▌       | 25/100 [00:00<00:00, 247.35it/s]"
     ]
    },
    {
     "name": "stdout",
     "output_type": "stream",
     "text": [
      "Pytorch: train_error 2.00% test_error 2.20%\n"
     ]
    },
    {
     "name": "stderr",
     "output_type": "stream",
     "text": [
      "100%|██████████| 100/100 [00:00<00:00, 245.60it/s]\n",
      " 19%|█▉        | 19/100 [00:00<00:00, 185.32it/s]"
     ]
    },
    {
     "name": "stdout",
     "output_type": "stream",
     "text": [
      "Our: train_error 2.60% test_error 3.20%\n"
     ]
    },
    {
     "name": "stderr",
     "output_type": "stream",
     "text": [
      "100%|██████████| 100/100 [00:00<00:00, 186.86it/s]\n",
      " 25%|██▌       | 25/100 [00:00<00:00, 248.59it/s]"
     ]
    },
    {
     "name": "stdout",
     "output_type": "stream",
     "text": [
      "Pytorch: train_error 2.20% test_error 2.70%\n"
     ]
    },
    {
     "name": "stderr",
     "output_type": "stream",
     "text": [
      "100%|██████████| 100/100 [00:00<00:00, 247.07it/s]\n",
      " 19%|█▉        | 19/100 [00:00<00:00, 189.41it/s]"
     ]
    },
    {
     "name": "stdout",
     "output_type": "stream",
     "text": [
      "Our: train_error 4.00% test_error 4.60%\n"
     ]
    },
    {
     "name": "stderr",
     "output_type": "stream",
     "text": [
      "100%|██████████| 100/100 [00:00<00:00, 188.11it/s]\n",
      " 25%|██▌       | 25/100 [00:00<00:00, 248.03it/s]"
     ]
    },
    {
     "name": "stdout",
     "output_type": "stream",
     "text": [
      "Pytorch: train_error 2.50% test_error 3.20%\n"
     ]
    },
    {
     "name": "stderr",
     "output_type": "stream",
     "text": [
      "100%|██████████| 100/100 [00:00<00:00, 244.23it/s]\n",
      " 19%|█▉        | 19/100 [00:00<00:00, 188.34it/s]"
     ]
    },
    {
     "name": "stdout",
     "output_type": "stream",
     "text": [
      "Our: train_error 3.60% test_error 5.40%\n"
     ]
    },
    {
     "name": "stderr",
     "output_type": "stream",
     "text": [
      "100%|██████████| 100/100 [00:00<00:00, 187.84it/s]\n",
      " 25%|██▌       | 25/100 [00:00<00:00, 246.31it/s]"
     ]
    },
    {
     "name": "stdout",
     "output_type": "stream",
     "text": [
      "Pytorch: train_error 1.20% test_error 3.10%\n"
     ]
    },
    {
     "name": "stderr",
     "output_type": "stream",
     "text": [
      "100%|██████████| 100/100 [00:00<00:00, 245.61it/s]\n",
      " 20%|██        | 20/100 [00:00<00:00, 191.74it/s]"
     ]
    },
    {
     "name": "stdout",
     "output_type": "stream",
     "text": [
      "Our: train_error 3.50% test_error 2.90%\n"
     ]
    },
    {
     "name": "stderr",
     "output_type": "stream",
     "text": [
      "100%|██████████| 100/100 [00:00<00:00, 189.55it/s]\n",
      " 25%|██▌       | 25/100 [00:00<00:00, 246.82it/s]"
     ]
    },
    {
     "name": "stdout",
     "output_type": "stream",
     "text": [
      "Pytorch: train_error 4.00% test_error 3.20%\n"
     ]
    },
    {
     "name": "stderr",
     "output_type": "stream",
     "text": [
      "100%|██████████| 100/100 [00:00<00:00, 241.56it/s]\n",
      " 20%|██        | 20/100 [00:00<00:00, 191.75it/s]"
     ]
    },
    {
     "name": "stdout",
     "output_type": "stream",
     "text": [
      "Our: train_error 4.30% test_error 4.80%\n"
     ]
    },
    {
     "name": "stderr",
     "output_type": "stream",
     "text": [
      "100%|██████████| 100/100 [00:00<00:00, 189.45it/s]\n",
      " 25%|██▌       | 25/100 [00:00<00:00, 245.45it/s]"
     ]
    },
    {
     "name": "stdout",
     "output_type": "stream",
     "text": [
      "Pytorch: train_error 1.60% test_error 1.80%\n"
     ]
    },
    {
     "name": "stderr",
     "output_type": "stream",
     "text": [
      "100%|██████████| 100/100 [00:00<00:00, 245.98it/s]\n",
      " 20%|██        | 20/100 [00:00<00:00, 190.68it/s]"
     ]
    },
    {
     "name": "stdout",
     "output_type": "stream",
     "text": [
      "Our: train_error 4.90% test_error 5.80%\n"
     ]
    },
    {
     "name": "stderr",
     "output_type": "stream",
     "text": [
      "100%|██████████| 100/100 [00:00<00:00, 187.39it/s]\n",
      " 25%|██▌       | 25/100 [00:00<00:00, 249.21it/s]"
     ]
    },
    {
     "name": "stdout",
     "output_type": "stream",
     "text": [
      "Pytorch: train_error 4.20% test_error 5.00%\n"
     ]
    },
    {
     "name": "stderr",
     "output_type": "stream",
     "text": [
      "100%|██████████| 100/100 [00:00<00:00, 248.27it/s]\n",
      " 20%|██        | 20/100 [00:00<00:00, 190.13it/s]"
     ]
    },
    {
     "name": "stdout",
     "output_type": "stream",
     "text": [
      "Our: train_error 3.80% test_error 3.10%\n"
     ]
    },
    {
     "name": "stderr",
     "output_type": "stream",
     "text": [
      "100%|██████████| 100/100 [00:00<00:00, 183.49it/s]\n",
      " 25%|██▌       | 25/100 [00:00<00:00, 246.60it/s]"
     ]
    },
    {
     "name": "stdout",
     "output_type": "stream",
     "text": [
      "Pytorch: train_error 2.30% test_error 1.70%\n"
     ]
    },
    {
     "name": "stderr",
     "output_type": "stream",
     "text": [
      "100%|██████████| 100/100 [00:00<00:00, 246.18it/s]\n",
      " 19%|█▉        | 19/100 [00:00<00:00, 189.91it/s]"
     ]
    },
    {
     "name": "stdout",
     "output_type": "stream",
     "text": [
      "Our: train_error 4.40% test_error 5.70%\n"
     ]
    },
    {
     "name": "stderr",
     "output_type": "stream",
     "text": [
      "100%|██████████| 100/100 [00:00<00:00, 188.83it/s]\n",
      " 25%|██▌       | 25/100 [00:00<00:00, 247.99it/s]"
     ]
    },
    {
     "name": "stdout",
     "output_type": "stream",
     "text": [
      "Pytorch: train_error 1.60% test_error 2.80%\n"
     ]
    },
    {
     "name": "stderr",
     "output_type": "stream",
     "text": [
      "100%|██████████| 100/100 [00:00<00:00, 248.20it/s]\n",
      " 20%|██        | 20/100 [00:00<00:00, 190.31it/s]"
     ]
    },
    {
     "name": "stdout",
     "output_type": "stream",
     "text": [
      "Our: train_error 3.00% test_error 4.00%\n"
     ]
    },
    {
     "name": "stderr",
     "output_type": "stream",
     "text": [
      "100%|██████████| 100/100 [00:00<00:00, 189.62it/s]\n",
      " 25%|██▌       | 25/100 [00:00<00:00, 248.32it/s]"
     ]
    },
    {
     "name": "stdout",
     "output_type": "stream",
     "text": [
      "Pytorch: train_error 1.40% test_error 1.70%\n"
     ]
    },
    {
     "name": "stderr",
     "output_type": "stream",
     "text": [
      "100%|██████████| 100/100 [00:00<00:00, 243.62it/s]\n",
      " 20%|██        | 20/100 [00:00<00:00, 191.21it/s]"
     ]
    },
    {
     "name": "stdout",
     "output_type": "stream",
     "text": [
      "Our: train_error 3.40% test_error 3.50%\n"
     ]
    },
    {
     "name": "stderr",
     "output_type": "stream",
     "text": [
      "100%|██████████| 100/100 [00:00<00:00, 190.19it/s]\n",
      " 25%|██▌       | 25/100 [00:00<00:00, 246.32it/s]"
     ]
    },
    {
     "name": "stdout",
     "output_type": "stream",
     "text": [
      "Pytorch: train_error 2.60% test_error 2.30%\n"
     ]
    },
    {
     "name": "stderr",
     "output_type": "stream",
     "text": [
      "100%|██████████| 100/100 [00:00<00:00, 245.30it/s]\n",
      " 20%|██        | 20/100 [00:00<00:00, 190.59it/s]"
     ]
    },
    {
     "name": "stdout",
     "output_type": "stream",
     "text": [
      "Our: train_error 3.40% test_error 2.80%\n"
     ]
    },
    {
     "name": "stderr",
     "output_type": "stream",
     "text": [
      "100%|██████████| 100/100 [00:00<00:00, 187.36it/s]\n",
      " 25%|██▌       | 25/100 [00:00<00:00, 247.28it/s]"
     ]
    },
    {
     "name": "stdout",
     "output_type": "stream",
     "text": [
      "Pytorch: train_error 2.30% test_error 3.00%\n"
     ]
    },
    {
     "name": "stderr",
     "output_type": "stream",
     "text": [
      "100%|██████████| 100/100 [00:00<00:00, 229.65it/s]\n",
      " 12%|█▏        | 12/100 [00:00<00:00, 118.13it/s]"
     ]
    },
    {
     "name": "stdout",
     "output_type": "stream",
     "text": [
      "Our: train_error 4.80% test_error 5.10%\n"
     ]
    },
    {
     "name": "stderr",
     "output_type": "stream",
     "text": [
      "100%|██████████| 100/100 [00:00<00:00, 140.99it/s]\n",
      " 25%|██▌       | 25/100 [00:00<00:00, 242.77it/s]"
     ]
    },
    {
     "name": "stdout",
     "output_type": "stream",
     "text": [
      "Pytorch: train_error 2.60% test_error 4.00%\n"
     ]
    },
    {
     "name": "stderr",
     "output_type": "stream",
     "text": [
      "100%|██████████| 100/100 [00:00<00:00, 230.14it/s]\n",
      "  0%|          | 0/100 [00:00<?, ?it/s]"
     ]
    },
    {
     "name": "stdout",
     "output_type": "stream",
     "text": [
      "Our: train_error 3.60% test_error 5.50%\n"
     ]
    },
    {
     "name": "stderr",
     "output_type": "stream",
     "text": [
      "100%|██████████| 100/100 [00:01<00:00, 95.79it/s]\n",
      " 15%|█▌        | 15/100 [00:00<00:00, 147.70it/s]"
     ]
    },
    {
     "name": "stdout",
     "output_type": "stream",
     "text": [
      "Pytorch: train_error 2.00% test_error 3.60%\n"
     ]
    },
    {
     "name": "stderr",
     "output_type": "stream",
     "text": [
      "100%|██████████| 100/100 [00:00<00:00, 171.76it/s]\n",
      " 17%|█▋        | 17/100 [00:00<00:00, 161.41it/s]"
     ]
    },
    {
     "name": "stdout",
     "output_type": "stream",
     "text": [
      "Our: train_error 3.30% test_error 3.30%\n"
     ]
    },
    {
     "name": "stderr",
     "output_type": "stream",
     "text": [
      "100%|██████████| 100/100 [00:00<00:00, 137.05it/s]\n",
      " 11%|█         | 11/100 [00:00<00:00, 108.17it/s]"
     ]
    },
    {
     "name": "stdout",
     "output_type": "stream",
     "text": [
      "Pytorch: train_error 2.50% test_error 2.40%\n"
     ]
    },
    {
     "name": "stderr",
     "output_type": "stream",
     "text": [
      "100%|██████████| 100/100 [00:00<00:00, 186.28it/s]\n",
      "  9%|▉         | 9/100 [00:00<00:01, 87.74it/s]"
     ]
    },
    {
     "name": "stdout",
     "output_type": "stream",
     "text": [
      "Our: train_error 3.70% test_error 2.80%\n"
     ]
    },
    {
     "name": "stderr",
     "output_type": "stream",
     "text": [
      "100%|██████████| 100/100 [00:00<00:00, 133.82it/s]\n",
      " 21%|██        | 21/100 [00:00<00:00, 202.99it/s]"
     ]
    },
    {
     "name": "stdout",
     "output_type": "stream",
     "text": [
      "Pytorch: train_error 2.40% test_error 2.90%\n"
     ]
    },
    {
     "name": "stderr",
     "output_type": "stream",
     "text": [
      "100%|██████████| 100/100 [00:00<00:00, 207.81it/s]\n",
      " 10%|█         | 10/100 [00:00<00:00, 95.46it/s]"
     ]
    },
    {
     "name": "stdout",
     "output_type": "stream",
     "text": [
      "Our: train_error 3.50% test_error 4.10%\n"
     ]
    },
    {
     "name": "stderr",
     "output_type": "stream",
     "text": [
      "100%|██████████| 100/100 [00:01<00:00, 86.94it/s]\n",
      " 20%|██        | 20/100 [00:00<00:00, 199.86it/s]"
     ]
    },
    {
     "name": "stdout",
     "output_type": "stream",
     "text": [
      "Pytorch: train_error 1.60% test_error 3.00%\n"
     ]
    },
    {
     "name": "stderr",
     "output_type": "stream",
     "text": [
      "100%|██████████| 100/100 [00:00<00:00, 197.24it/s]\n",
      " 15%|█▌        | 15/100 [00:00<00:00, 142.46it/s]"
     ]
    },
    {
     "name": "stdout",
     "output_type": "stream",
     "text": [
      "Our: train_error 4.00% test_error 3.10%\n"
     ]
    },
    {
     "name": "stderr",
     "output_type": "stream",
     "text": [
      "100%|██████████| 100/100 [00:00<00:00, 125.26it/s]\n",
      " 23%|██▎       | 23/100 [00:00<00:00, 226.02it/s]"
     ]
    },
    {
     "name": "stdout",
     "output_type": "stream",
     "text": [
      "Pytorch: train_error 4.20% test_error 3.90%\n"
     ]
    },
    {
     "name": "stderr",
     "output_type": "stream",
     "text": [
      "100%|██████████| 100/100 [00:00<00:00, 178.52it/s]\n",
      " 15%|█▌        | 15/100 [00:00<00:00, 147.15it/s]"
     ]
    },
    {
     "name": "stdout",
     "output_type": "stream",
     "text": [
      "Our: train_error 3.80% test_error 4.90%\n"
     ]
    },
    {
     "name": "stderr",
     "output_type": "stream",
     "text": [
      "100%|██████████| 100/100 [00:00<00:00, 130.17it/s]\n",
      " 23%|██▎       | 23/100 [00:00<00:00, 221.05it/s]"
     ]
    },
    {
     "name": "stdout",
     "output_type": "stream",
     "text": [
      "Pytorch: train_error 1.30% test_error 2.80%\n"
     ]
    },
    {
     "name": "stderr",
     "output_type": "stream",
     "text": [
      "100%|██████████| 100/100 [00:00<00:00, 218.15it/s]\n",
      " 18%|█▊        | 18/100 [00:00<00:00, 173.79it/s]"
     ]
    },
    {
     "name": "stdout",
     "output_type": "stream",
     "text": [
      "Our: train_error 4.10% test_error 5.10%\n"
     ]
    },
    {
     "name": "stderr",
     "output_type": "stream",
     "text": [
      "100%|██████████| 100/100 [00:00<00:00, 166.39it/s]\n",
      " 23%|██▎       | 23/100 [00:00<00:00, 225.30it/s]"
     ]
    },
    {
     "name": "stdout",
     "output_type": "stream",
     "text": [
      "Pytorch: train_error 1.70% test_error 2.20%\n"
     ]
    },
    {
     "name": "stderr",
     "output_type": "stream",
     "text": [
      "100%|██████████| 100/100 [00:00<00:00, 222.69it/s]\n",
      " 17%|█▋        | 17/100 [00:00<00:00, 168.98it/s]"
     ]
    },
    {
     "name": "stdout",
     "output_type": "stream",
     "text": [
      "Our: train_error 3.40% test_error 3.50%\n"
     ]
    },
    {
     "name": "stderr",
     "output_type": "stream",
     "text": [
      "100%|██████████| 100/100 [00:00<00:00, 170.51it/s]\n",
      " 24%|██▍       | 24/100 [00:00<00:00, 231.76it/s]"
     ]
    },
    {
     "name": "stdout",
     "output_type": "stream",
     "text": [
      "Pytorch: train_error 2.10% test_error 1.90%\n"
     ]
    },
    {
     "name": "stderr",
     "output_type": "stream",
     "text": [
      "100%|██████████| 100/100 [00:00<00:00, 221.10it/s]\n",
      " 18%|█▊        | 18/100 [00:00<00:00, 173.65it/s]"
     ]
    },
    {
     "name": "stdout",
     "output_type": "stream",
     "text": [
      "Our: train_error 6.00% test_error 6.80%\n"
     ]
    },
    {
     "name": "stderr",
     "output_type": "stream",
     "text": [
      "100%|██████████| 100/100 [00:00<00:00, 168.23it/s]\n"
     ]
    },
    {
     "name": "stdout",
     "output_type": "stream",
     "text": [
      "Pytorch: train_error 5.20% test_error 5.10%\n"
     ]
    }
   ],
   "source": [
    "#Compare performances\n",
    "import time\n",
    "\n",
    "num_it = 100\n",
    "vect_it = np.arange(0,num_it,1)\n",
    "vect_our_train_errors = np.ones((num_it,1))\n",
    "vect_our_test_errors = np.ones((num_it,1))\n",
    "vect_pytorch_train_errors = np.ones((num_it,1))\n",
    "vect_pytorch_test_errors = np.ones((num_it,1))\n",
    "matrix_loss_our = np.ones((100, num_it))\n",
    "matrix_loss_pytorch = np.ones((100, num_it))\n",
    "vect_time_our = np.ones((num_it, 1))\n",
    "vect_time_pytorch = np.ones((num_it, 1))\n",
    "\n",
    "for it in vect_it:\n",
    "    set_grad_enabled(False)\n",
    "    one_hot = False\n",
    "    train_input, train_target = generate_disc_set(1000, one_hot)\n",
    "    test_input, test_target = generate_disc_set(1000, one_hot)\n",
    "    mean, std = train_input.mean(), train_input.std()\n",
    "    train_input.sub_(mean).div_(std)\n",
    "    test_input.sub_(mean).div_(std)\n",
    "\n",
    "    time1 = time.time()\n",
    "    model = Sequential(\n",
    "        Linear(2, 25),\n",
    "        ReLU(),\n",
    "        Linear(25, 2)\n",
    "    )\n",
    "\n",
    "    train_model(model, train_input, train_target, it, one_hot=one_hot)\n",
    "    time2 = time.time()\n",
    "    print('Our: train_error {:.02f}% test_error {:.02f}%'.format(\n",
    "           compute_nb_errors(model, train_input, train_target) / train_input.size(0) * 100,\n",
    "            compute_nb_errors(model, test_input, test_target) / test_input.size(0) * 100))\n",
    "    #plt.savefig('prova.png')\n",
    "    vect_our_train_errors[it] = compute_nb_errors(model, train_input, train_target) / train_input.size(0) * 100\n",
    "    vect_our_test_errors[it] = compute_nb_errors(model, test_input, test_target) / test_input.size(0) * 100\n",
    "    vect_time_our[it] = time2 - time1\n",
    "    ######################################################################\n",
    "   \n",
    "    set_grad_enabled(True)\n",
    "    #mean, std = train_input.mean(), train_input.std()\n",
    "    #train_input.sub_(mean).div_(std)\n",
    "    #test_input.sub_(mean).div_(std)\n",
    "\n",
    "    mini_batch_size = 100\n",
    "    time1 = time.time()\n",
    "    model2 = nn.Sequential(\n",
    "            nn.Linear(2, 25),\n",
    "            nn.ReLU(),\n",
    "            nn.Linear(25, 2)\n",
    "        )\n",
    "    train_model2(model2, train_input, train_target, it)\n",
    "    time2 = time.time()\n",
    "    print('Pytorch: train_error {:.02f}% test_error {:.02f}%'.format(\n",
    "           compute_nb_errors(model2, train_input, train_target) / train_input.size(0) * 100,\n",
    "            compute_nb_errors(model2, test_input, test_target) / test_input.size(0) * 100))\n",
    "\n",
    "    vect_pytorch_train_errors[it] = compute_nb_errors(model2, train_input, train_target) / train_input.size(0) * 100\n",
    "    vect_pytorch_test_errors[it] = compute_nb_errors(model2, test_input, test_target) / test_input.size(0) * 100\n",
    "    vect_time_pytorch[it] = time2 - time1\n",
    "\n",
    "#plt.xlabel('# epochs')\n",
    "#plt.ylabel('Loss (MSE)')\n",
    "#plt.legend()\n",
    "#plt.show()\n",
    "\n"
   ]
  },
  {
   "cell_type": "code",
   "execution_count": 5,
   "id": "continental-blogger",
   "metadata": {},
   "outputs": [],
   "source": [
    "\n",
    "mean_our_train_errors = vect_our_train_errors.mean()\n",
    "mean_our_test_errors = vect_our_test_errors.mean()\n",
    "mean_pytorch_train_errors = vect_pytorch_train_errors.mean()\n",
    "mean_pytorch_test_errors = vect_pytorch_test_errors.mean()\n",
    "\n",
    "#matrix_loss_our = np.ones((100, num_it))\n",
    "#matrix_loss_pytorch = np.ones((100, num_it))\n",
    "#vect_time_our = np.ones((num_it, 1))\n",
    "#vect_time_pytorch = np.ones((num_it, 1))"
   ]
  },
  {
   "cell_type": "code",
   "execution_count": 6,
   "id": "opposed-secret",
   "metadata": {},
   "outputs": [
    {
     "name": "stdout",
     "output_type": "stream",
     "text": [
      "Our: mean train_error 3.76% mean train std error 0.82%: \n",
      " mean test_error 4.31% mean test std error 1.09%\n",
      "PyTorch: mean train_error 2.58% mean train std error 0.97%: \n",
      " mean test_error 3.22% mean test std error 1.02%\n",
      "mean time to train: Our =  0.47 s,  Pytorch = 0.63 s\n"
     ]
    }
   ],
   "source": [
    "print('Our: mean train_error {:.02f}% mean train std error {:.02f}%: \\n mean test_error {:.02f}% mean test std error {:.02f}%'.format(\n",
    "           vect_our_train_errors.mean(), vect_our_train_errors.std(),\n",
    "            vect_our_test_errors.mean(), vect_our_test_errors.std()))\n",
    "print('PyTorch: mean train_error {:.02f}% mean train std error {:.02f}%: \\n mean test_error {:.02f}% mean test std error {:.02f}%'.format(\n",
    "           vect_pytorch_train_errors.mean(), vect_pytorch_train_errors.std(),\n",
    "            vect_pytorch_test_errors.mean(), vect_pytorch_test_errors.std()))\n",
    "print('mean time to train: Our =  {:.02f} s,  Pytorch = {:.02f} s'.format(\n",
    "           vect_time_our.mean(), vect_time_pytorch.mean()))\n"
   ]
  },
  {
   "cell_type": "code",
   "execution_count": 9,
   "id": "pediatric-seven",
   "metadata": {},
   "outputs": [
    {
     "data": {
      "image/png": "[encoded data removed]",
      "text/plain": [
       "<Figure size 648x720 with 1 Axes>"
      ]
     },
     "metadata": {
      "needs_background": "light"
     },
     "output_type": "display_data"
    }
   ],
   "source": [
    "central_our = matrix_loss_our.mean(axis = 1)\n",
    "up_our = central_our + matrix_loss_our.std(axis = 1)\n",
    "down_our = central_our - matrix_loss_our.std(axis = 1)\n",
    "\n",
    "central_pytorch = matrix_loss_pytorch.mean(axis = 1)\n",
    "up_pytorch = central_pytorch + matrix_loss_pytorch.std(axis = 1)\n",
    "down_pytorch = central_pytorch - matrix_loss_pytorch.std(axis = 1)\n",
    "\n",
    "plt.figure(figsize=(9, 10))\n",
    "plt.plot(range(100), up_our, linewidth = 1.5, linestyle = '--', color = 'b')\n",
    "plt.plot(range(100), central_our, label = 'Our Class', linewidth = 3, linestyle = '-', color = 'b')\n",
    "plt.plot(range(100), down_our, linewidth = 1.5, linestyle = '--', color = 'b')\n",
    "\n",
    "plt.plot(range(100), up_pytorch, linewidth = 1.5, linestyle = '--', color = 'g')\n",
    "plt.plot(range(100), central_pytorch, label = 'PyTorch', linewidth = 3, linestyle = '-', color = 'g')\n",
    "plt.plot(range(100), down_pytorch, linewidth = 1.5, linestyle = '--', color = 'g')\n",
    "\n",
    "plt.xlabel('# epochs', size = 22)\n",
    "plt.ylabel('Loss (MSE)', size = 22)\n",
    "plt.xticks(fontsize=22, rotation=0)\n",
    "plt.yticks(fontsize=22, rotation=0)\n",
    "plt.legend(fontsize = 22)\n",
    "plt.savefig(\"loss_plots_2.pdf\")\n",
    "plt.show()\n",
    "\n"
   ]
  }
 ],
 "metadata": {
  "kernelspec": {
   "display_name": "Python 3",
   "language": "python",
   "name": "python3"
  },
  "language_info": {
   "codemirror_mode": {
    "name": "ipython",
    "version": 3
   },
   "file_extension": ".py",
   "mimetype": "text/x-python",
   "name": "python",
   "nbconvert_exporter": "python",
   "pygments_lexer": "ipython3",
   "version": "3.8.5"
  }
 },
 "nbformat": 4,
 "nbformat_minor": 5
}
